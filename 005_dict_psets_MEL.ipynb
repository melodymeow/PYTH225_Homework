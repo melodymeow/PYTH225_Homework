{
  "nbformat": 4,
  "nbformat_minor": 0,
  "metadata": {
    "colab": {
      "name": "005_dict_psets_MEL.ipynb",
      "provenance": [],
      "collapsed_sections": [
        "_yv4DI9GSU01",
        "j2WZlr4aSN8T",
        "1Z5ZE-l3T-Zs",
        "OY4HIe9zSN8g"
      ],
      "include_colab_link": true
    },
    "kernelspec": {
      "name": "python3",
      "display_name": "Python 3"
    }
  },
  "cells": [
    {
      "cell_type": "markdown",
      "metadata": {
        "id": "view-in-github",
        "colab_type": "text"
      },
      "source": [
        "<a href=\"https://colab.research.google.com/github/melodymeow/PYTH225_Homework/blob/master/005_dict_psets_MEL.ipynb\" target=\"_parent\"><img src=\"https://colab.research.google.com/assets/colab-badge.svg\" alt=\"Open In Colab\"/></a>"
      ]
    },
    {
      "cell_type": "markdown",
      "metadata": {
        "id": "hIHgBfgSSN8D",
        "colab_type": "text"
      },
      "source": [
        "#  DICTS\n",
        "\n",
        "\n",
        "\n"
      ]
    },
    {
      "cell_type": "markdown",
      "metadata": {
        "id": "_yv4DI9GSU01",
        "colab_type": "text"
      },
      "source": [
        "## BASICS\n"
      ]
    },
    {
      "cell_type": "markdown",
      "metadata": {
        "id": "YXndgQTcSWCF",
        "colab_type": "text"
      },
      "source": [
        "### P1.PY"
      ]
    },
    {
      "cell_type": "code",
      "metadata": {
        "id": "sycqY3FhSN8E",
        "colab_type": "code",
        "outputId": "22f2d408-7c2c-4f4b-c0ba-cba83cf1181e",
        "colab": {
          "base_uri": "https://localhost:8080/",
          "height": 69
        }
      },
      "source": [
        "\"\"\"\n",
        "Intro to Dict Concepts\n",
        "\"\"\"\n",
        "\n",
        "import random\n",
        "\n",
        "# A) Declare an empty dict as d1.\n",
        "d1 = {}\n",
        "\n",
        "\n",
        "# B) Create a dict called d2 containing the first and last names below:\n",
        "# Anthony Paollelo, Ping Qiao, Enrique Alvarez, Arjun Dhir \n",
        "d2 = {\n",
        "    'Anthony':'Paollelo',\n",
        "    'Ping':'Qiao',\n",
        "    'Enrique':'Alvarez',\n",
        "    'Arjun':'Dhir'\n",
        "    }\n",
        "\n",
        "\n",
        "\n",
        "# C) Add Allison Zhang person to d2.\n",
        "d2.update({'Allison':'Zhang'})\n",
        "\n",
        "\n",
        "# D) How many people are now in d2? Print out all their *first* names in the vars below.\n",
        "\n",
        "### num_people = \n",
        "\n",
        "### first_names = \n",
        "\n",
        "num_people = len(d2)\n",
        "first_names = list(d2.keys())\n",
        "print(num_people,first_names)\n",
        "\n",
        "\n",
        "# E) Delete a random person from d2 and print his/her name in the var below.\n",
        "\n",
        "### x = \n",
        "x = random.randint(0,4)\n",
        "key = first_names[x]\n",
        "value = d2.get(key)\n",
        "d2.pop(key)\n",
        "print(x,d2)\n",
        "\n",
        "# F) Re-add the name you deleted to the end of d2.\n",
        "d2.update({key:value})\n",
        "print(d2)\n",
        "\n"
      ],
      "execution_count": 0,
      "outputs": [
        {
          "output_type": "stream",
          "text": [
            "5 ['Anthony', 'Ping', 'Enrique', 'Arjun', 'Allison']\n",
            "1 {'Anthony': 'Paollelo', 'Enrique': 'Alvarez', 'Arjun': 'Dhir', 'Allison': 'Zhang'}\n",
            "{'Anthony': 'Paollelo', 'Enrique': 'Alvarez', 'Arjun': 'Dhir', 'Allison': 'Zhang', 'Ping': 'Qiao'}\n"
          ],
          "name": "stdout"
        }
      ]
    },
    {
      "cell_type": "markdown",
      "metadata": {
        "id": "vGjiwyuNSN8H",
        "colab_type": "text"
      },
      "source": [
        "\n",
        "\n",
        "### P2.PY\n",
        "\n",
        "\n"
      ]
    },
    {
      "cell_type": "code",
      "metadata": {
        "id": "0vq219wISN8J",
        "colab_type": "code",
        "outputId": "39a38fc2-0a49-494c-ad00-97d0a3251149",
        "colab": {
          "base_uri": "https://localhost:8080/",
          "height": 69
        }
      },
      "source": [
        "\"\"\"\n",
        "Predators & Prey\n",
        "\"\"\"\n",
        "\n",
        "# A) Create a dict called \"pred_prey\", containing:\n",
        "### 3 carnivorous marine animals\n",
        "### For each carnivore, 3 examples of its prey\n",
        "\n",
        "pred_prey = {\n",
        "            'lion': ['rabit','deer','horse'],\n",
        "            'cat': ['fish','mouse','birds'],\n",
        "            'tiger': ['horse','pig','deer']\n",
        "}\n",
        "\n",
        "print(pred_prey)\n",
        "\n",
        "# B) Print out the 2nd predator and its prey in this format:\n",
        "#### predator2: prey1, prey2, & prey3\n",
        "\n",
        "predator = list(pred_prey.keys())\n",
        "prey = list(pred_prey.values())\n",
        "print(f'{predator[1]}: {prey[1][0]}, {prey[1][1]}, & {prey[1][2]}')\n",
        "\n",
        "# C) Print a unique collection of all the prey in a variable called \"prey\".\n",
        "prey_collection =[]\n",
        "\n",
        "for i in range(0,3): \n",
        " for j in range(0,3):\n",
        "    if prey[i][j] in prey_collection:\n",
        "      continue\n",
        "    prey_collection.append(prey[i][j])\n",
        "\n",
        "print(prey_collection)"
      ],
      "execution_count": 0,
      "outputs": [
        {
          "output_type": "stream",
          "text": [
            "{'lion': ['rabit', 'deer', 'horse'], 'cat': ['fish', 'mouse', 'birds'], 'tiger': ['horse', 'pig', 'deer']}\n",
            "cat: fish, mouse, & birds\n",
            "['rabit', 'deer', 'horse', 'fish', 'mouse', 'birds', 'pig']\n"
          ],
          "name": "stdout"
        }
      ]
    },
    {
      "cell_type": "markdown",
      "metadata": {
        "id": "2n4lE5O2SN8N",
        "colab_type": "text"
      },
      "source": [
        "\n",
        "\n",
        "### P3.PY\n",
        "\n",
        "\n"
      ]
    },
    {
      "cell_type": "code",
      "metadata": {
        "id": "7mg1LKIdSN8O",
        "colab_type": "code",
        "outputId": "e849015e-6916-44ef-e7e0-5f7979649b60",
        "colab": {
          "base_uri": "https://localhost:8080/",
          "height": 35
        }
      },
      "source": [
        "\"\"\"\n",
        "Merging Dicts\n",
        "\"\"\"\n",
        "\n",
        "# Merge these two dicts without creating a new one.\n",
        "\n",
        "d1 = {'a': 100, 'b': 200}\n",
        "d2 = {'c': 300, 'd': 400, 'e': 500}\n",
        "\n",
        "d1.update(d2)\n",
        "\n",
        "print(d1)"
      ],
      "execution_count": 0,
      "outputs": [
        {
          "output_type": "stream",
          "text": [
            "{'a': 100, 'b': 200, 'c': 300, 'd': 400, 'e': 500}\n"
          ],
          "name": "stdout"
        }
      ]
    },
    {
      "cell_type": "markdown",
      "metadata": {
        "id": "pPpGZbyBSN8Q",
        "colab_type": "text"
      },
      "source": [
        "\n",
        "\n",
        "### P4.PY\n",
        "\n",
        "\n"
      ]
    },
    {
      "cell_type": "code",
      "metadata": {
        "id": "HLyWTctsSN8R",
        "colab_type": "code",
        "outputId": "35874114-cd4d-46c7-c127-0522ed89305b",
        "colab": {
          "base_uri": "https://localhost:8080/",
          "height": 35
        }
      },
      "source": [
        "\"\"\"\n",
        "Lists to Dicts\n",
        "\"\"\"\n",
        "\n",
        "# Turn these two lists into a dict called grades.\n",
        "\n",
        "names = ['Taq', 'Zola', 'Valerie', 'Valerie']\n",
        "scores = [[98, 89, 92, 94], [86, 45, 98, 100], [100, 100, 100, 100], [76, 79, 80, 82]]\n",
        "\n",
        "### grades = \n",
        "\n",
        "# grades = dict(zip(names,scores))\n",
        "# print(grades)\n",
        "\n",
        "# grades = {}\n",
        "# unique_names = []\n",
        "# count = 2\n",
        "\n",
        "# for i in names:\n",
        "#   if i in unique_names:\n",
        "#      i = i + str(count)\n",
        "#      count += 1\n",
        "#   unique_names.append(i)\n",
        "#   idx = unique_names.index(i)\n",
        "#   grades.update({i:scores[idx]})\n",
        "# print(grades)\n",
        "\n",
        "\n",
        "#use extend function\n",
        "\n",
        "combinedlist = list(zip(names,scores))\n",
        "print(combinedlist)\n",
        "grades = {}\n",
        "\n",
        "for i in combinedlist:\n",
        "  if i in grades:\n",
        "  \n",
        "  grades.extend(scores)\n",
        "print(grades)\n",
        "\n",
        "  \n",
        "\n"
      ],
      "execution_count": 0,
      "outputs": [
        {
          "output_type": "stream",
          "text": [
            "[('Taq', [98, 89, 92, 94]), ('Zola', [86, 45, 98, 100]), ('Valerie', [100, 100, 100, 100]), ('Valerie', [76, 79, 80, 82])]\n"
          ],
          "name": "stdout"
        }
      ]
    },
    {
      "cell_type": "markdown",
      "metadata": {
        "id": "j2WZlr4aSN8T",
        "colab_type": "text"
      },
      "source": [
        "## DICT MANIPULATION\n",
        "\n"
      ]
    },
    {
      "cell_type": "markdown",
      "metadata": {
        "id": "CD6sOl1NSlUd",
        "colab_type": "text"
      },
      "source": [
        "### P1.PY"
      ]
    },
    {
      "cell_type": "code",
      "metadata": {
        "id": "kevedbhjSN8U",
        "colab_type": "code",
        "outputId": "de065d25-3d38-4a85-db5d-d13a30b4df3d",
        "colab": {
          "base_uri": "https://localhost:8080/",
          "height": 35
        }
      },
      "source": [
        "\"\"\"\n",
        "Basic Login\n",
        "\"\"\"\n",
        "\n",
        "# Imagine you work for a movie streaming service. You're in charge of safeguarding user privacy by ensuring the login feature remains secure. For the sake of example only, below is the dict of user login info. Normally, you wouldn't have access to see this unencrypted of course!\n",
        "\n",
        "users = {\n",
        "\t'person@email.com': 'PassWord',\n",
        "\t'someone@email.com': 'hiitsme',\n",
        "\t'me@email.com': 'myPassword',\n",
        "\t'anyone@email.com': 'IMawesome',\n",
        "\t'guy@email.com': 'pa$$wordz'\n",
        "\t# etc\n",
        "}\n",
        "\n",
        "\n",
        "# A user enters the below login info (email and password) for your app. Search your \n",
        "# database of user logins to see if this account exists and if the password matches what you have on file. \n",
        "# If the login credentials are correct, print \"Successful login!\". \n",
        "# Otherwise, print \"The login info you entered does not match any of our records.\"\n",
        "\n",
        "current_user = { 'me@email.com': 'myPassword' }\n",
        "\n",
        "user_name = list(current_user.keys())\n",
        "password = list(current_user.values())\n",
        "correct_password = users.get(user_name[0])\n",
        "if correct_password == password[0]:\n",
        "\tprint('Successful login!')\n",
        "else:\n",
        "  print('The login info you entered does not match any of our records')\n"
      ],
      "execution_count": 0,
      "outputs": [
        {
          "output_type": "stream",
          "text": [
            "Successful login!\n"
          ],
          "name": "stdout"
        }
      ]
    },
    {
      "cell_type": "markdown",
      "metadata": {
        "id": "KbjvMBP_SN8W",
        "colab_type": "text"
      },
      "source": [
        "\n",
        "\n",
        "### P2.PY\n",
        "\n",
        "\n"
      ]
    },
    {
      "cell_type": "code",
      "metadata": {
        "id": "SjdXQ_MiSN8X",
        "colab_type": "code",
        "outputId": "2674bbe8-39e6-4d11-b9ff-364acf89260b",
        "colab": {
          "base_uri": "https://localhost:8080/",
          "height": 190
        }
      },
      "source": [
        "\"\"\"\n",
        "Math with Girl Scout Cookies\n",
        "\"\"\"\n",
        "\n",
        "# Print out the number of boxes of girl scout cookies that each girl in the troop sold in the below format:\n",
        "\t# Wendy: _____\n",
        "\t# Connie: _____\n",
        "\t# Francesca: _____\n",
        "\n",
        "Wendy = {'tagalongs': 5, 'thin mints': 12, 'samoas': 8}\n",
        "Connie = {'tagalongs': 10, 'thin mints': 4, 'samoas': 12}\n",
        "Francesca = {'tagalongs': 18, 'thin mints': 14, 'samoas': 10}\n",
        "\n",
        "### salesW = \n",
        "### salesC = \n",
        "### salesF = \n",
        "\n",
        "salesW = sum(list(Wendy.values()))\n",
        "salesC = sum(list(Connie.values()))\n",
        "salesF = sum(list(Francesca.values()))\n",
        "\n",
        "print(f'Wendy: {salesW} \\nConnie: {salesC} \\nFrancesca: {salesF}')\n",
        "\n",
        "# For each type of girl scout cookie, print out the total number of boxes sold in the below format:\n",
        "\t# tagalongs: _____\n",
        "\t# thin mints: _____\n",
        "\t# samoas: _____\n",
        "\n",
        "total_tagalongs = Wendy['tagalongs'] + Connie['tagalongs'] + Francesca['tagalongs']\n",
        "total_thinmints = Wendy['thin mints']+ Connie['thin mints'] + Francesca['thin mints'] \n",
        "total_samoas = Wendy['samoas'] + Connie['samoas'] + Francesca['samoas']\n",
        "print(f'tagalongs: {total_tagalongs} \\nthin mints: {total_thinmints} \\nsamoas: {total_samoas}')\n",
        "\n",
        "\n",
        "\n",
        "\n",
        "# For each type of girl scout cookie, print out the average number of boxes sold in the below format:\n",
        "\t# tagalongs: _____\n",
        "\t# thin mints: _____\n",
        "\t# samoas: _____\n",
        "\n",
        "avg_tagalongs = total_tagalongs / 3\n",
        "avg_thinmints = total_thinmints / 3\n",
        "avg_samoas = total_samoas / 3\n",
        "\n",
        "print(f'tagalongs: {avg_tagalongs} \\nthin mints: {avg_thinmints} \\nsamoas: {avg_samoas}')\n",
        "\n",
        "\n",
        "# Print out total the number of boxes of cookies the girls sold collectively as follows:\n",
        "\t# \"This year we sold ______ boxes!\"\n",
        "\n",
        "boxes_sold = total_tagalongs + total_thinmints + total_samoas\n",
        "print(f'This year we sold {boxes_sold} boxes!')\n"
      ],
      "execution_count": 0,
      "outputs": [
        {
          "output_type": "stream",
          "text": [
            "Wendy: 25 \n",
            "Connie: 26 \n",
            "Francesca: 42\n",
            "tagalongs: 33 \n",
            "thin mints: 30 \n",
            "samoas: 30\n",
            "tagalongs: 11.0 \n",
            "thin mints: 10.0 \n",
            "samoas: 10.0\n",
            "This year we sold 93 boxes!\n"
          ],
          "name": "stdout"
        }
      ]
    },
    {
      "cell_type": "markdown",
      "metadata": {
        "id": "U32QUUqHSN8b",
        "colab_type": "text"
      },
      "source": [
        "\n",
        "\n",
        "### P3.PY\n",
        "\n",
        "\n"
      ]
    },
    {
      "cell_type": "code",
      "metadata": {
        "id": "UfPFoSqGSN8d",
        "colab_type": "code",
        "outputId": "b660283d-cc83-445b-99f1-3def5fc1a276",
        "colab": {
          "base_uri": "https://localhost:8080/",
          "height": 35
        }
      },
      "source": [
        "\"\"\"\n",
        "Inverting Keys & Values\n",
        "\"\"\"\n",
        "\n",
        "# Invert dict1 - make the current keys into values and the current values into keys.\n",
        "\n",
        "\n",
        "dict1 = { \"k1\" : \"v1\", \"k2\" : \"v2\", \"k3\" : \"v1\" }\n",
        "\n",
        "list1 = list(dict1.keys())\n",
        "list2 = list(dict1.values())\n",
        "\n",
        "print(dict(zip(list2,list1)))\n"
      ],
      "execution_count": 0,
      "outputs": [
        {
          "output_type": "stream",
          "text": [
            "{'v1': 'k3', 'v2': 'k2'}\n"
          ],
          "name": "stdout"
        }
      ]
    },
    {
      "cell_type": "markdown",
      "metadata": {
        "id": "1Z5ZE-l3T-Zs",
        "colab_type": "text"
      },
      "source": [
        "## DICT LOOPS\n",
        "\n",
        "\n"
      ]
    },
    {
      "cell_type": "markdown",
      "metadata": {
        "id": "qOHH_tdgUIzl",
        "colab_type": "text"
      },
      "source": [
        "### P1.PY"
      ]
    },
    {
      "cell_type": "code",
      "metadata": {
        "id": "VAvRbaZiT-Zt",
        "colab_type": "code",
        "outputId": "76c7fb62-e8cb-4408-b0c2-dd8935744746",
        "colab": {
          "base_uri": "https://localhost:8080/",
          "height": 55
        }
      },
      "source": [
        "\"\"\"\n",
        "Contacts\n",
        "\"\"\"\n",
        "\n",
        "# You went to a conference and got people to sign up for text updates from your startup. Go through this dict to make the phone numbers readable to a computer. \n",
        "\n",
        "# Hint: It can't include any non-numeric\n",
        "# characters.\n",
        "\n",
        "contacts = {\n",
        "\t'Jamie': '1.192.168.0143',\n",
        "\t'Kartik': '1.837.209.1121',\n",
        "\t'Grant': '1.826.386.1758',\n",
        "\t'Brandon': '1.935.297.9447',\n",
        "\t'Monique': '1.702.716.5353',\n",
        "\t'Sohom': '1.576.619.6100',\n",
        "}\n",
        "\n",
        "names = list(contacts.keys())\n",
        "numbers = list(contacts.values())\n",
        "new_numbers = []\n",
        "\n",
        "for i in numbers:\n",
        "\tnew_numbers.append(''.join(i.split('.')))\n",
        " \n",
        "new_dict = dict(zip(names,new_numbers))\n",
        "print(new_dict)\n"
      ],
      "execution_count": 0,
      "outputs": [
        {
          "output_type": "stream",
          "text": [
            "{'Jamie': '11921680143', 'Kartik': '18372091121', 'Grant': '18263861758', 'Brandon': '19352979447', 'Monique': '17027165353', 'Sohom': '15766196100'}\n"
          ],
          "name": "stdout"
        }
      ]
    },
    {
      "cell_type": "markdown",
      "metadata": {
        "id": "I9eekKo7T-Zv",
        "colab_type": "text"
      },
      "source": [
        "\n",
        "\n",
        "### P2.PY\n",
        "\n",
        "\n"
      ]
    },
    {
      "cell_type": "code",
      "metadata": {
        "id": "rjRPhf-oT-Zw",
        "colab_type": "code",
        "outputId": "13bb3f80-a4a8-4036-803c-27d74511c4da",
        "colab": {
          "base_uri": "https://localhost:8080/",
          "height": 89
        }
      },
      "source": [
        "\"\"\"\n",
        "Grades\n",
        "\"\"\"\n",
        "# Here's a dict containing students' grades from the semester's assignments.\n",
        "\n",
        "students = {\n",
        "  'Ashton': [86, 45, 98, 100],\n",
        "  'Sierra': [100, 100, 100, 100],\n",
        "  'Zach': [38, 49, 90, 87],\n",
        "  'Manuel': [98, 92, 86, 100],\n",
        "  'Felicia': [94, 87, 89, 95],\n",
        "  'Ankur': [75, 77, 77, 85],\n",
        "  'Ananya': [98, 94, 87, 92],\n",
        "  'Nick': [79, 84, 89, 90],\n",
        "  'Olivia': [83, 91, 69, 85],\n",
        "  'Molly': [83, 74, 72, 90]\n",
        "}\n",
        "\n",
        "# p 1.1) Create a dict called num_grades to store each student's average numerical grade for the semester.\n",
        "num_grades ={}\n",
        "\n",
        "for name, score in students.items():\n",
        "  num_grades[name] = sum(score) / len(score)\n",
        "print(num_grades)\n",
        "\n",
        "\n",
        "# p 1.2) Create a dict called letter_grades to store each student's final letter grade for the semester. Use A, B, C, D, and F as grades per the standard grading scale.\n",
        "\n",
        "# letter_grades = \n",
        "letter_grades = {}\n",
        "for name, score in num_grades.items():\n",
        "  if score > 90:\n",
        "    score = 'A'\n",
        "  elif score >80:\n",
        "    score = 'B'\n",
        "  elif score >70:\n",
        "    score = 'C'\n",
        "  elif score > 60:\n",
        "    score = 'D'\n",
        "  else:\n",
        "    score = 'F'\n",
        "  letter_grades[name] = score\n",
        "\n",
        "print(letter_grades)\n",
        "\n",
        "# p 1.3) Create a list of honor roll students (i.e. students who got A's).\n",
        "\n",
        "# honor_roll \n",
        "\n",
        "honor_roll = []\n",
        "for name, score in letter_grades.items():\n",
        "  if score == 'A':\n",
        "    honor_roll.append(name)\n",
        "\n",
        "print(honor_roll)"
      ],
      "execution_count": 0,
      "outputs": [
        {
          "output_type": "stream",
          "text": [
            "{'Ashton': 82.25, 'Sierra': 100.0, 'Zach': 66.0, 'Manuel': 94.0, 'Felicia': 91.25, 'Ankur': 78.5, 'Ananya': 92.75, 'Nick': 85.5, 'Olivia': 82.0, 'Molly': 79.75}\n",
            "{'Ashton': 'B', 'Sierra': 'A', 'Zach': 'D', 'Manuel': 'A', 'Felicia': 'A', 'Ankur': 'C', 'Ananya': 'A', 'Nick': 'B', 'Olivia': 'B', 'Molly': 'C'}\n",
            "['Sierra', 'Manuel', 'Felicia', 'Ananya']\n"
          ],
          "name": "stdout"
        }
      ]
    },
    {
      "cell_type": "markdown",
      "metadata": {
        "id": "fjXYhpR_T-Zz",
        "colab_type": "text"
      },
      "source": [
        "\n",
        "\n",
        "### P3.PY\n",
        "\n",
        "\n"
      ]
    },
    {
      "cell_type": "code",
      "metadata": {
        "id": "dnNTo_y5T-Z0",
        "colab_type": "code",
        "outputId": "580da298-a99c-4bfd-8a3b-658a4353a876",
        "colab": {
          "base_uri": "https://localhost:8080/",
          "height": 131
        }
      },
      "source": [
        "\"\"\"\n",
        "Price Inventory\n",
        "\"\"\"\n",
        "\n",
        "# Imagine you're the owner of an Italian restaurant. You're evaluating your pricing to make sure it's up to date with the latest costs of making each menu item (see the menu prices and costs dicts below). Evaluate whether each item's price returns a profit margin of at least $1.00. If it doesn't, update the menu_prices dict with a new price that gives the item a $1.00 profit margin. Then print out the items which you've repriced in a new dict called price_increases.\n",
        "\n",
        "menu_prices = {\n",
        "\t'fettuccine bolognese': 14.99,\n",
        "\t'gnocchi gorgonzola': 10.99,\n",
        "\t'chicken parmigiano': 13.99,\n",
        "\t'butternut squash risotto': 9.99,\n",
        "\t'spaghetti carbonara': 12.99,\n",
        "\t'pizza margherita': 12.99,\n",
        "\t'chicken marsala': 13.99\n",
        "}\n",
        "\n",
        "menu_costs = {\n",
        "\t'fettuccine bolognese': 12.50,\n",
        "\t'gnocchi gorgonzola': 11.25,\n",
        "\t'chicken parmigiano': 11.75,\n",
        "\t'butternut squash risotto': 6.33,\n",
        "\t'spaghetti carbonara': 12.90,\n",
        "\t'pizza margherita': 14.00,\n",
        "\t'chicken marsala': 11.75\n",
        "}\n",
        "\n",
        "# price_increases = \n",
        "\n",
        "\n"
      ],
      "execution_count": 0,
      "outputs": [
        {
          "output_type": "error",
          "ename": "IndentationError",
          "evalue": "ignored",
          "traceback": [
            "\u001b[0;36m  File \u001b[0;32m\"<ipython-input-32-9a90b659b334>\"\u001b[0;36m, line \u001b[0;32m36\u001b[0m\n\u001b[0;31m    menu_prices[items] = price\u001b[0m\n\u001b[0m                              ^\u001b[0m\n\u001b[0;31mIndentationError\u001b[0m\u001b[0;31m:\u001b[0m unindent does not match any outer indentation level\n"
          ]
        }
      ]
    },
    {
      "cell_type": "markdown",
      "metadata": {
        "id": "OY4HIe9zSN8g",
        "colab_type": "text"
      },
      "source": [
        "## COUNTERS CHALLENGE\n",
        "\n",
        "\n"
      ]
    },
    {
      "cell_type": "markdown",
      "metadata": {
        "id": "n6-wbcqISxIr",
        "colab_type": "text"
      },
      "source": [
        "### P1.PY"
      ]
    },
    {
      "cell_type": "code",
      "metadata": {
        "id": "LKLiEr_3SN8g",
        "colab_type": "code",
        "outputId": "7bbbaeea-55ef-40bf-c9ff-80cc957fcf65",
        "colab": {
          "base_uri": "https://localhost:8080/",
          "height": 35
        }
      },
      "source": [
        "\"\"\"\n",
        "Word Frequency\n",
        "\"\"\"\n",
        "\n",
        "# Print out the number of words in this movie quote. Find and print out the most \n",
        "#common word in the quote and how many times it was used.\n",
        "### Hint: You do not need a loop for this. Look up the Counter docs in python3.\n",
        "\n",
        "from collections import Counter\n",
        "\n",
        "princess_bride = [\n",
        "'Hello', 'my', 'name', 'is', 'Inigo', 'Montoya',\n",
        "'You', 'killed', 'my', 'father',\n",
        "'Prepare', 'to', 'die'\n",
        "]\n",
        "\n",
        "### fave_word = \n",
        "\n",
        "counts = Counter(princess_bride) \n",
        "fave_word = counts.most_common(1)[0][0]\n",
        "print(fave_word)\n",
        "\n",
        "\n",
        "# p.s. You might use this to help analyze the most common topic in comments or \n",
        "#reviews from your users to help understand the best places to improve you product."
      ],
      "execution_count": 0,
      "outputs": [
        {
          "output_type": "stream",
          "text": [
            "my\n"
          ],
          "name": "stdout"
        }
      ]
    },
    {
      "cell_type": "markdown",
      "metadata": {
        "id": "7L4oLSDpSN8n",
        "colab_type": "text"
      },
      "source": [
        "\n",
        "\n",
        "### P2.PY\n",
        "\n",
        "\n"
      ]
    },
    {
      "cell_type": "code",
      "metadata": {
        "id": "MYo0kTxuSN8o",
        "colab_type": "code",
        "outputId": "1d3a66a9-9177-4293-a8d3-736186ac63c1",
        "colab": {
          "base_uri": "https://localhost:8080/",
          "height": 35
        }
      },
      "source": [
        "\"\"\"\n",
        "Summing Dict Values\n",
        "\"\"\"\n",
        "\n",
        "# Two Kindergarten teachers poll their classes for what fruit they want to eat for snacktime tomorrow.\n",
        "# Only one of them is going shopping, so she needs to know \n",
        "#how many of each fruit she needs to buy in total. Tally these up and assign them to the \"shopping_list\" dict.\n",
        "\n",
        "poll1 = {'apples': 8, 'bananas': 12}\n",
        "poll2 = {'apples': 6, 'bananas': 6, 'clementines': 8}\n",
        "\n",
        "### shopping_list = \n",
        "from collections import Counter\n",
        "\n",
        "shopping_list = Counter(poll1) + Counter(poll2)\n",
        "\n",
        "print(shopping_list)\n"
      ],
      "execution_count": 0,
      "outputs": [
        {
          "output_type": "stream",
          "text": [
            "Counter({'bananas': 18, 'apples': 14, 'clementines': 8})\n"
          ],
          "name": "stdout"
        }
      ]
    }
  ]
}