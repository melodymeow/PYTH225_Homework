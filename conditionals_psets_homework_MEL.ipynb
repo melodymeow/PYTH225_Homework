{
  "nbformat": 4,
  "nbformat_minor": 0,
  "metadata": {
    "colab": {
      "name": "Copy of conditionals_psets_MEL.ipynb",
      "provenance": [],
      "collapsed_sections": [
        "gijpYMCLV00L",
        "c70y61m1Vtn3",
        "zayFQdU7Vto2"
      ],
      "include_colab_link": true
    },
    "kernelspec": {
      "name": "python3",
      "display_name": "Python 3"
    }
  },
  "cells": [
    {
      "cell_type": "markdown",
      "metadata": {
        "id": "view-in-github",
        "colab_type": "text"
      },
      "source": [
        "<a href=\"https://colab.research.google.com/github/melodymeow/PYTH225_Homework/blob/master/conditionals_psets_homework_MEL.ipynb\" target=\"_parent\"><img src=\"https://colab.research.google.com/assets/colab-badge.svg\" alt=\"Open In Colab\"/></a>"
      ]
    },
    {
      "cell_type": "markdown",
      "metadata": {
        "id": "FiL9pv11VtnR",
        "colab_type": "text"
      },
      "source": [
        "#  CONDITIONALS\n",
        "\n",
        "\n"
      ]
    },
    {
      "cell_type": "markdown",
      "metadata": {
        "id": "gijpYMCLV00L",
        "colab_type": "text"
      },
      "source": [
        "## WEATHER"
      ]
    },
    {
      "cell_type": "markdown",
      "metadata": {
        "id": "KL7ytXn4V2WB",
        "colab_type": "text"
      },
      "source": [
        "### P1.PY"
      ]
    },
    {
      "cell_type": "code",
      "metadata": {
        "id": "e32ChHBAVtnU",
        "colab_type": "code",
        "colab": {}
      },
      "source": [
        "\"\"\"\n",
        "Weather I - Do you need boots?\n",
        "\"\"\"\n",
        "\n",
        "# Use the values of the vars defined below to ouput the correct contextual answer to the questions below. (Note: The variables themselves ARE the questions.)\n",
        "\n",
        "# Example:\n",
        "## am_i_hungry = False\n",
        "## am_i_tired = True\n",
        "## do_i_need_to_stay_awake = False\n",
        "\n",
        "## should_i_drink_coffee_now = am_i_tired and do_i_need_to_stay_awake\n",
        "\n",
        "## ^^ This ^^ evaluates to False. If you're tired and don't need to stay awake, you don't need to drink coffee!\n",
        "\n",
        "\n",
        "is_it_raining = True\n",
        "is_it_snowing = False\n",
        "\n",
        "\n",
        "do_i_need_snow_boots = is_it_snowing #do_i_need_snow_boots = (is_it_snowing == True) or do_i_need_snow_boots = is_it_snowing == True\n",
        "can_i_skip_snow_boots = not is_it_snowing\n",
        "do_i_need_rain_boots = is_it_raining\n",
        "can_i_skip_rain_boots = not is_it_raining\n"
      ],
      "execution_count": 0,
      "outputs": []
    },
    {
      "cell_type": "markdown",
      "metadata": {
        "id": "t9cxGL-8VtnX",
        "colab_type": "text"
      },
      "source": [
        "\n",
        "\n",
        "### P2.PY\n",
        "\n",
        "\n"
      ]
    },
    {
      "cell_type": "code",
      "metadata": {
        "id": "y80DTzliVtnY",
        "colab_type": "code",
        "colab": {}
      },
      "source": [
        "\"\"\"\n",
        "Weather II - Precipitation\n",
        "\"\"\"\n",
        "\n",
        "# Repeat the same process as p1, using this new set of variables.\n",
        "\n",
        "sunny = True\n",
        "raining = True\n",
        "snowing = False\n",
        "\n",
        "is_it_sunny = sunny\n",
        "is_there_precipitatio = raining or snowing #is_there_precipitation = (raining == True) or (snowing == True)\n",
        "is_it_sleeting = raining and snowing\n",
        "is_there_rainbow = raining and sunny"
      ],
      "execution_count": 0,
      "outputs": []
    },
    {
      "cell_type": "markdown",
      "metadata": {
        "id": "777sx1WCVtno",
        "colab_type": "text"
      },
      "source": [
        "\n",
        "\n",
        "### P3.PY\n",
        "\n",
        "\n"
      ]
    },
    {
      "cell_type": "code",
      "metadata": {
        "id": "9dNGqX2wVtnp",
        "colab_type": "code",
        "colab": {}
      },
      "source": [
        "\"\"\"\n",
        "Weather III - Describe Conditions\n",
        "\"\"\"\n",
        "\n",
        "# Repeat the same process as p1, using this new set of variables.\n",
        "\n",
        "\n",
        "is_it_warm = True\n",
        "is_it_humid = True\n",
        "is_it_cold = False\n",
        "is_it_icy = False\n",
        "is_it_foggy = False\n",
        "is_it_windy = False\n",
        "is_it_overcast = True\n",
        "\n",
        "\n",
        "is_it_summer_weather = is_it_warm and is_it_humid\n",
        "is_rain_coming = is_it_humid and is_it_overcast\n",
        "is_it_muggy = is_it_humid or is_it_rainy \n",
        "do_i_need_coat = (not is_it_warm) or (is_it_cold) or (is_it_icy) \n",
        "\n"
      ],
      "execution_count": 0,
      "outputs": []
    },
    {
      "cell_type": "markdown",
      "metadata": {
        "id": "c70y61m1Vtn3",
        "colab_type": "text"
      },
      "source": [
        "## LOGIC\n",
        "\n",
        "\n"
      ]
    },
    {
      "cell_type": "markdown",
      "metadata": {
        "id": "6IGtJU8oV5a8",
        "colab_type": "text"
      },
      "source": [
        "### P1.PY"
      ]
    },
    {
      "cell_type": "code",
      "metadata": {
        "id": "8dx3WRHBVtn4",
        "colab_type": "code",
        "outputId": "789e7aa9-5e26-4f0a-bcd5-81dc0448fcef",
        "colab": {
          "base_uri": "https://localhost:8080/",
          "height": 34
        }
      },
      "source": [
        "\"\"\"\n",
        "Calculate Grade\n",
        "\"\"\"\n",
        "\n",
        "grade = '95'  # expect this to be a number\n",
        "\n",
        "# write a program that will print the \"letter\"\n",
        "# equivalent of the grade, for example:\n",
        "# when grade = 90 # -> expect A\n",
        "# when grade = 80 # -> expect B\n",
        "# when grade = 70 # -> expect C\n",
        "# when grade = 60 # -> expect D\n",
        "# when grade = 54 # -> expect F\n",
        "# when grade = -10 # -> expect Error\n",
        "# when grade = 10000 # -> expect Error\n",
        "# when grade = \"lol skool sucks\" # -> expect Error\n",
        "\n",
        "try:\n",
        "  if grade >= 90:\n",
        "    print (\"A\")\n",
        "  elif grade >= 80:\n",
        "    print (\"B\")\n",
        "  elif grade >=70:\n",
        "    print (\"C\")\n",
        "  elif grade >=60:\n",
        "    print (\"D\")\n",
        "  elif grade >=0:\n",
        "    print (\"F\")\n",
        "  else:\n",
        "    print(\"Error, input invalid\")\n",
        "except Exception as e:\n",
        "  print (f\"error type is {e}\")"
      ],
      "execution_count": 0,
      "outputs": [
        {
          "output_type": "stream",
          "text": [
            "error type is '>=' not supported between instances of 'str' and 'int'\n"
          ],
          "name": "stdout"
        }
      ]
    },
    {
      "cell_type": "markdown",
      "metadata": {
        "id": "HLfJLQFKVtoK",
        "colab_type": "text"
      },
      "source": [
        "\n",
        "\n",
        "### P2.PY\n",
        "\n",
        "\n"
      ]
    },
    {
      "cell_type": "code",
      "metadata": {
        "id": "g3fT3CxqVtoO",
        "colab_type": "code",
        "outputId": "6cc5abd6-1c28-441a-a1ab-9c1975e77bf2",
        "colab": {
          "base_uri": "https://localhost:8080/",
          "height": 34
        }
      },
      "source": [
        "\"\"\"\n",
        "Sign of Product\n",
        "\"\"\"\n",
        "\n",
        "# Given three numbers, a, b, c, without multiplying, determine the sign of their product.\n",
        "\n",
        "# EXAMPLE: a = -5, b = 6, c = -4, print 1\n",
        "\n",
        "# EXAMPLE: a = 5, b = 6, c = -4, print -1\n",
        "\n",
        "a = -2\n",
        "b = -2\n",
        "c = -5\n",
        "sign = None\n",
        "\n",
        "\n",
        "\n",
        "# if a == 0 or b == 0 or c == 0:\n",
        "#   sign = 0\n",
        "# elif a > 0 and b > 0 and c > 0:\n",
        "#   sign = 1\n",
        "# elif a > 0 and b > 0 and c < 0:\n",
        "#   sign = -1\n",
        "# elif a > 0 and b < 0 and c > 0:\n",
        "#   sign = -1\n",
        "# elif a > 0 and b < 0 and c < 0:\n",
        "#   sign = 1\n",
        "# elif a < 0 and b > 0 and c > 0:\n",
        "#   sign = -1\n",
        "# elif a < 0 and b > 0 and c < 0:\n",
        "#   sign = 1\n",
        "# elif a <0 and b < 0 and c > 0:\n",
        "#   sign = 1\n",
        "# else:\n",
        "#   sign = -1\n",
        "\n",
        "# print(sign)\n",
        "\n",
        "if a==0 or b==0 or c==0:\n",
        "  sign = 0\n",
        "elif (a>0 and b>0 and c>0) or (a>0 and b<0 and c<0) or (a<0 and b<0 and c>0) or (a<0 and b>0 and c<0):\n",
        "  sign = 1\n",
        "else:\n",
        "  sign = -1\n",
        "\n",
        "print (sign)\n",
        "  \n",
        "\n",
        "# is_a_negative = a < 0\n",
        "# is_b_negative = b < 0\n",
        "# is_c_negative = c < 0\n",
        "\n",
        "# summed = int(is_a_negative) + int(is_b_negative) + int(is_c_negative)\n",
        "\n",
        "# if summed == 1 or summed == 3:\n",
        "#   print(\"Negative\")\n",
        "# else:\n",
        "#   print(\"Positive\")\n",
        "\n"
      ],
      "execution_count": 0,
      "outputs": [
        {
          "output_type": "stream",
          "text": [
            "Negative\n"
          ],
          "name": "stdout"
        }
      ]
    },
    {
      "cell_type": "markdown",
      "metadata": {
        "id": "eUuhYKriVtoS",
        "colab_type": "text"
      },
      "source": [
        "\n",
        "\n",
        "### P3.PY\n",
        "\n",
        "\n"
      ]
    },
    {
      "cell_type": "code",
      "metadata": {
        "id": "gtAMAAaYVtoT",
        "colab_type": "code",
        "outputId": "e790b860-f943-4872-933d-f77ca5e2b95b",
        "colab": {
          "base_uri": "https://localhost:8080/",
          "height": 34
        }
      },
      "source": [
        "\"\"\"\n",
        "Any Uppercase\n",
        "\"\"\"\n",
        "\n",
        "# Given a string str, determine if there are any uppercase values in it. Use only conditional statements and string methods (you may have to look some up!)\n",
        "\n",
        "# EXAMPLE: str = \"teSt\", print True\n",
        "\n",
        "str = \"TeST\"\n",
        "\n",
        "if str.islower():\n",
        "  print (\"There is no uppercase in the string\")\n",
        "else:\n",
        "  print (\"There is upper case in the string\")"
      ],
      "execution_count": 0,
      "outputs": [
        {
          "output_type": "stream",
          "text": [
            "There is upper case in the string\n"
          ],
          "name": "stdout"
        }
      ]
    },
    {
      "cell_type": "markdown",
      "metadata": {
        "id": "wG8CE6QTVtoW",
        "colab_type": "text"
      },
      "source": [
        "\n",
        "\n",
        "### P4.PY\n",
        "\n",
        "\n"
      ]
    },
    {
      "cell_type": "code",
      "metadata": {
        "id": "xZ5Mt4jSVtoX",
        "colab_type": "code",
        "outputId": "9e6e8ed1-d348-44b2-edc8-b5171d26a4ab",
        "colab": {
          "base_uri": "https://localhost:8080/",
          "height": 34
        }
      },
      "source": [
        "\"\"\"\n",
        "Empty Strings\n",
        "\"\"\"\n",
        "\n",
        "# Given any empty string, of the form:\n",
        "\n",
        "# ''\n",
        "# ' '\n",
        "# '  '\n",
        "# any other num of spaces...\n",
        "\n",
        "# determine if the str is empty or not (print True or False). Hint: You'll need to look up how to remove trailing spaces from a string.\n",
        "# is_str1_contain_spac = str1.isspace()\n",
        "# print(is_str1_contain_spac)\n",
        "\n",
        "str1 = ' fdal '\n",
        "str1_remove_trailing_space = str1.strip()\n",
        "if str1 == str1_remove_trailing_space:\n",
        "  print(\"There is no empty space in the string\")\n",
        "else:\n",
        "  print(\"there is empty space in the string\")\n",
        "\n",
        "\n",
        "\n"
      ],
      "execution_count": 0,
      "outputs": [
        {
          "output_type": "stream",
          "text": [
            "there is empty space in the string\n"
          ],
          "name": "stdout"
        }
      ]
    },
    {
      "cell_type": "markdown",
      "metadata": {
        "id": "WlgQdALoVtof",
        "colab_type": "text"
      },
      "source": [
        "\n",
        "\n",
        "### P5.PY\n",
        "\n",
        "\n"
      ]
    },
    {
      "cell_type": "code",
      "metadata": {
        "id": "7_k9rebsVtog",
        "colab_type": "code",
        "outputId": "fe13e3d6-037d-4875-f2b2-f1df0ec7fe31",
        "colab": {
          "base_uri": "https://localhost:8080/",
          "height": 102
        }
      },
      "source": [
        "\"\"\"\n",
        "truthTableEvaluator\n",
        "\"\"\"\n",
        "\n",
        "# Given the following inputs:\n",
        "\n",
        "\n",
        "# P = # True or False\n",
        "# Q = # True or False\n",
        "# op = # '^' (logical AND, conjunction)\n",
        "#      # OR, 'v' (logical OR, disjunction)\n",
        "#      # OR, '->' (logical conditional, implication)\n",
        "#      # OR, '<->' (biconditional)\n",
        "# determine the correct outcome.\n",
        "\n",
        "# https://medium.com/i-math/intro-to-truth-tables-boolean-algebra-73b331dd9b94\n",
        "\n",
        "P = True\n",
        "Q = False\n",
        "\n",
        "if P == True and Q == True:\n",
        "  PandQ = True\n",
        "  PorQ = True\n",
        "  PQimplication = True\n",
        "  PQbicondition = True\n",
        "elif P == True and Q == False:\n",
        "  PandQ = False\n",
        "  PorQ = True\n",
        "  PQimplication = False\n",
        "  PQbicondition = False\n",
        "elif P == False and Q == True:\n",
        "  PandQ = False\n",
        "  PorQ = True\n",
        "  PQimplication = True\n",
        "  PQbicondition = False\n",
        "else:\n",
        "  PandQ = False\n",
        "  PorQ = False\n",
        "  PQimplication = True\n",
        "  PQbicondition = True\n",
        "\n",
        "print(f'''P and Q is {PandQ}\n",
        "P or Q is {PorQ}\n",
        "P and Q logical condition is {PQimplication}\n",
        "P and Q biconditional is {PQbicondition}\n",
        "''')\n"
      ],
      "execution_count": 0,
      "outputs": [
        {
          "output_type": "stream",
          "text": [
            "P and Q is False\n",
            "P or Q is True\n",
            "P and Q logical condition is False\n",
            "P and Q biconditional is False\n",
            "\n"
          ],
          "name": "stdout"
        }
      ]
    },
    {
      "cell_type": "markdown",
      "metadata": {
        "id": "zayFQdU7Vto2",
        "colab_type": "text"
      },
      "source": [
        "## RANDOM NUMBERS\n",
        "\n",
        "\n",
        "\n",
        "\n"
      ]
    },
    {
      "cell_type": "markdown",
      "metadata": {
        "id": "gtAK4fQAV9BC",
        "colab_type": "text"
      },
      "source": [
        "### P1.PY"
      ]
    },
    {
      "cell_type": "code",
      "metadata": {
        "id": "_dlFvP4QVto3",
        "colab_type": "code",
        "outputId": "291f77a9-43f5-4cbf-cf93-939fdda38d08",
        "colab": {
          "base_uri": "https://localhost:8080/",
          "height": 34
        }
      },
      "source": [
        "\"\"\"\n",
        "Generate Traffic Light\n",
        "\"\"\"\n",
        "\n",
        "# import python randomint package\n",
        "\n",
        "\n",
        "# generates a random number from 1 to 3\n",
        "\n",
        "\n",
        "# if 1, print 'red'\n",
        "# if 2, print 'green',\n",
        "# if 3, print 'yellow'\n",
        "from random import randint\n",
        "number = randint(1,3)\n",
        "if number == 1:\n",
        "  print(number, \"red\")\n",
        "elif number == 2:\n",
        "  print(number, \"green\")\n",
        "else:\n",
        "  print(number, \"yellow\")\n"
      ],
      "execution_count": 0,
      "outputs": [
        {
          "output_type": "stream",
          "text": [
            "2 green\n"
          ],
          "name": "stdout"
        }
      ]
    },
    {
      "cell_type": "markdown",
      "metadata": {
        "id": "nO0LSd8SVto5",
        "colab_type": "text"
      },
      "source": [
        "\n",
        "\n",
        "### P2.PY\n",
        "\n",
        "\n"
      ]
    },
    {
      "cell_type": "code",
      "metadata": {
        "id": "Dp5jFc2fVtpF",
        "colab_type": "code",
        "outputId": "02040e97-9b25-4f79-bed6-6bce117afd1b",
        "colab": {
          "base_uri": "https://localhost:8080/",
          "height": 34
        }
      },
      "source": [
        "\"\"\"\n",
        "Generate Phone Number w/Area Code\n",
        "\"\"\"\n",
        "\n",
        "# Generate a random phone number using these SPECS:\n",
        "### Should be a string in this format: 1-718-786-2825\n",
        "### Must randomly choose one of these area codes: 646, 718, 212\n",
        "\n",
        "from random import randint\n",
        "area_code = [646,718,212]\n",
        "area_code_selected = area_code[randint(1,3)-1]\n",
        "number1 = randint(0,9)\n",
        "number2 = randint(0,9)\n",
        "number3 = randint(0,9)\n",
        "number4 = randint(0,9)\n",
        "number5 = randint(0,9)\n",
        "number6 = randint(0,9)\n",
        "number7 = randint(0,9)\n",
        "\n",
        "print (f'1-{area_code_selected}-{number1}{number2}{number3}-{number4}{number5}{number6}{number7}')\n",
        "\n",
        "# from random import randint\n",
        "# area_code = [646,718,212]\n",
        "# area_code_selected = area_code[randint(1,3)-1]\n",
        "# last_seven_digit = str(randint (0,9999999))\n",
        "# 7-len(last_seven_digit)\n",
        "\n"
      ],
      "execution_count": 0,
      "outputs": [
        {
          "output_type": "stream",
          "text": [
            "2\n"
          ],
          "name": "stdout"
        }
      ]
    },
    {
      "cell_type": "markdown",
      "metadata": {
        "id": "gRweE3nDVtpK",
        "colab_type": "text"
      },
      "source": [
        "## RPS\n",
        "\n",
        "\n"
      ]
    },
    {
      "cell_type": "markdown",
      "metadata": {
        "id": "IFUwrDumV_Vn",
        "colab_type": "text"
      },
      "source": [
        "### P1.PY"
      ]
    },
    {
      "cell_type": "code",
      "metadata": {
        "id": "sYTmAYzDVtpL",
        "colab_type": "code",
        "colab": {
          "base_uri": "https://localhost:8080/",
          "height": 34
        },
        "outputId": "47ad0e7c-9fe1-4e51-b713-864177b715c6"
      },
      "source": [
        "\"\"\"\n",
        "Play RPS\n",
        "\"\"\"\n",
        "\n",
        "p1 = 's'  # or 'p' or 's'\n",
        "p2 = 'p'  # or 'p' or 's'\n",
        "\n",
        "# Given a p1 and p2\n",
        "# print 1 if p1 has won\n",
        "# print 2 if p2 has won\n",
        "# print 0 if tie\n",
        "# print -1 if invalid input\n",
        "# expects both p1 and p2 inputs to be either\n",
        "# \"r\", \"p\", or \"s\"\n",
        "\n",
        "if p1 == p2:\n",
        "  print(0)\n",
        "elif (p1 == 'r' and p2 == 'p') or (p1 == 'p' and p2 == 's') or (p1 == 's' and p2 == 'r'):\n",
        "  print(2)\n",
        "else:\n",
        "  print(1)\n",
        "\n",
        "\n"
      ],
      "execution_count": 5,
      "outputs": [
        {
          "output_type": "stream",
          "text": [
            "1\n"
          ],
          "name": "stdout"
        }
      ]
    },
    {
      "cell_type": "markdown",
      "metadata": {
        "id": "fp77AykMVtpN",
        "colab_type": "text"
      },
      "source": [
        "\n",
        "\n",
        "### P2.PY\n",
        "\n",
        "\n"
      ]
    },
    {
      "cell_type": "code",
      "metadata": {
        "id": "mKMaxGH8VtpO",
        "colab_type": "code",
        "colab": {
          "base_uri": "https://localhost:8080/",
          "height": 34
        },
        "outputId": "b5238f90-9eb9-46df-e1be-edfee2dab629"
      },
      "source": [
        "\"\"\"\n",
        "Play RPS w/Computer\n",
        "\"\"\"\n",
        "\n",
        "import random\n",
        "\n",
        "list = ['r','p','s']\n",
        "p1 = list[random.randint(0,2)]  # randomly choose 'r' or 'p' or 's'\n",
        "p2 = list[random.randint(0,2)]  # randomly choose 'r' or 'p' or 's'\n",
        "\n",
        "\n",
        "# Given a p1 and p2\n",
        "# print 1 if p1 has won\n",
        "# print 2 if p2 has won\n",
        "# print 0 if tie\n",
        "# print -1 if invalid input\n",
        "# expects both p1 and p2 inputs to be either\n",
        "# \"r\", \"p\", or \"s\"\n",
        "\n",
        "if p1 == p2:\n",
        "  print(0)\n",
        "elif (p1 == 'r' and p2 == 'p') or (p1 == 'p' and p2 == 's') or (p1 == 's' and p2 == 'r'):\n",
        "  print(2)\n",
        "else:\n",
        "  print(1)"
      ],
      "execution_count": 19,
      "outputs": [
        {
          "output_type": "stream",
          "text": [
            "s p\n"
          ],
          "name": "stdout"
        }
      ]
    },
    {
      "cell_type": "markdown",
      "metadata": {
        "id": "INgOFvdoVtpU",
        "colab_type": "text"
      },
      "source": [
        "\n",
        "\n",
        "### P3.PY\n",
        "\n",
        "\n"
      ]
    },
    {
      "cell_type": "code",
      "metadata": {
        "id": "vhAAHjMSVtpV",
        "colab_type": "code",
        "colab": {
          "base_uri": "https://localhost:8080/",
          "height": 68
        },
        "outputId": "52f0ab40-8a4e-40b0-9adf-08351ea1c078"
      },
      "source": [
        "\"\"\"\n",
        "Play RPS w/Input\n",
        "\"\"\"\n",
        "\n",
        "p1 = input('Please enter a choice: ')  # from user input\n",
        "p2 = input('Please enter a choice: ')  # from user input\n",
        "\n",
        "# Given a p1 and p2\n",
        "# print 1 if p1 has won\n",
        "# print 2 if p2 has won\n",
        "# print 0 if tie\n",
        "# print -1 if invalid input\n",
        "# expects both p1 and p2 inputs to be either\n",
        "# \"r\", \"p\", or \"s\"\n",
        "\n",
        "try:\n",
        "  if p1 == p2:\n",
        "    print(0)\n",
        "  elif (p1 == 'r' and p2 == 'p') or (p1 == 'p' and p2 == 's') or (p1 == 's' and p2 == 'r'):\n",
        "    print(2)\n",
        "  elif (p1 =='r' and p2 =='s') or (p1 == 'p' and p2 =='r') or (p1 == 's' and p2 == 'p'):\n",
        "    print(1)\n",
        "  else:\n",
        "    print(-1)\n",
        "except Exception:\n",
        "    print(-1)"
      ],
      "execution_count": 27,
      "outputs": [
        {
          "output_type": "stream",
          "text": [
            "Please enter a choice: r\n",
            "Please enter a choice: s\n",
            "1\n"
          ],
          "name": "stdout"
        }
      ]
    },
    {
      "cell_type": "markdown",
      "metadata": {
        "id": "SUqNu57OVtpY",
        "colab_type": "text"
      },
      "source": [
        "\n",
        "\n",
        "### P4.PY\n",
        "\n",
        "\n"
      ]
    },
    {
      "cell_type": "code",
      "metadata": {
        "id": "Vmlr5AqSVtpY",
        "colab_type": "code",
        "colab": {
          "base_uri": "https://localhost:8080/",
          "height": 51
        },
        "outputId": "6c7bf1ee-2c95-4672-b348-8e66d5649651"
      },
      "source": [
        "\"\"\"\n",
        "Play RPS against Computer\n",
        "\"\"\"\n",
        "import random\n",
        "\n",
        "list = ['r','p','s']\n",
        "p1 = input('enter a choice: ')  # from user input - we still want validation from above!\n",
        "p2 = list[random.randint(0,2)]  # randomly generated against computer\n",
        "\n",
        "\n",
        "# Given a p1 and p2\n",
        "# print 1 if p1 has won\n",
        "# print 2 if p2 has won\n",
        "# print 0 if tie\n",
        "# print -1 if invalid input\n",
        "# expects both p1 and p2 inputs to be either\n",
        "# \"r\", \"p\", or \"s\"\n",
        "\n",
        "if p1 in list:\n",
        " if p1 == p2:\n",
        "    print(0)\n",
        " elif (p1 == 'r' and p2 == 'p') or (p1 == 'p' and p2 == 's') or (p1 == 's' and p2 == 'r'):\n",
        "      print(2)\n",
        " elif (p1 =='r' and p2 =='s') or (p1 == 'p' and p2 =='r') or (p1 == 's' and p2 == 'p'):\n",
        "      print(1)\n",
        "else:\n",
        "    print(-1)  \n"
      ],
      "execution_count": 47,
      "outputs": [
        {
          "output_type": "stream",
          "text": [
            "enter a choice: p\n",
            "1\n"
          ],
          "name": "stdout"
        }
      ]
    },
    {
      "cell_type": "markdown",
      "metadata": {
        "id": "F_7aaMtoVtpt",
        "colab_type": "text"
      },
      "source": [
        "\n",
        "\n",
        "### P5.PY\n",
        "\n",
        "\n"
      ]
    },
    {
      "cell_type": "code",
      "metadata": {
        "id": "U24EGu3VVtpu",
        "colab_type": "code",
        "colab": {
          "base_uri": "https://localhost:8080/",
          "height": 68
        },
        "outputId": "bc88e747-8fa3-4502-ce01-6ec13ef46f78"
      },
      "source": [
        "\"\"\"\n",
        "Play RPS w/Bad Input\n",
        "\"\"\"\n",
        "\n",
        "p1 = input(\"please enter a choice: \")  # can be invalid!\n",
        "p2 = input(\"please enter a choice: \")  # can be invalid!\n",
        "\n",
        "p1_lowercase = p1.lower()\n",
        "p2_lowercase = p2.lower()\n",
        "\n",
        "list = ['r','rock','p','paper','s','scissors']\n",
        "\n",
        "\n",
        "\n",
        "if p1_lowercase in list and p2_lowercase in list:\n",
        "  p1 = p1_lowercase[0]\n",
        "  p2 = p2_lowercase[0]\n",
        "  if p1 == p2:\n",
        "      print(0)\n",
        "  elif (p1 == 'r' and p2 == 'p') or (p1 == 'p' and p2 == 's') or (p1 == 's' and p2 == 'r'):\n",
        "      print(2)\n",
        "  else:\n",
        "      print(1)\n",
        "else:\n",
        "  print('Invalid inputs')\n",
        "\n",
        "\n",
        "\n",
        "\n",
        "# \"\"\"\n",
        "# This is the same as the original RPS problem, \n",
        "# except that cannot expect the input to be valid. \n",
        "# While we *want* `r` or `p` or `s`, there is a possibility \n",
        "# that input can be anything like...\n",
        "\n",
        "# * `ROCK` (all caps)\n",
        "# * `R` (`r` but capitalized)\n",
        "# * `PAPrrRR` (incorrectly spelled, upper/lowercased)\n",
        "\n",
        "# Implement conditional statements that will sanitize the \n",
        "# user input or let user know that input is invalid.\n",
        "# \"\"\"\n"
      ],
      "execution_count": 63,
      "outputs": [
        {
          "output_type": "stream",
          "text": [
            "please enter a choice: RoCk\n",
            "please enter a choice: PAPer\n",
            "2\n"
          ],
          "name": "stdout"
        }
      ]
    }
  ]
}