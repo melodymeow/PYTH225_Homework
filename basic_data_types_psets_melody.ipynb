{
  "nbformat": 4,
  "nbformat_minor": 0,
  "metadata": {
    "colab": {
      "name": " basic_data_types_psets_melody.ipynb",
      "provenance": [],
      "collapsed_sections": [
        "0o8YPHxoVrWL",
        "poqjlnEOVrWh",
        "pRORE6K8VrWy"
      ],
      "include_colab_link": true
    },
    "kernelspec": {
      "name": "python3",
      "display_name": "Python 3"
    }
  },
  "cells": [
    {
      "cell_type": "markdown",
      "metadata": {
        "id": "view-in-github",
        "colab_type": "text"
      },
      "source": [
        "<a href=\"https://colab.research.google.com/github/melodymeow/PYTH225_Homework/blob/master/basic_data_types_psets_melody.ipynb\" target=\"_parent\"><img src=\"https://colab.research.google.com/assets/colab-badge.svg\" alt=\"Open In Colab\"/></a>"
      ]
    },
    {
      "cell_type": "markdown",
      "metadata": {
        "id": "hFmxhgDQVrV8",
        "colab_type": "text"
      },
      "source": [
        "#  BASIC DATA TYPES\n",
        "\n"
      ]
    },
    {
      "cell_type": "markdown",
      "metadata": {
        "id": "uayAR97cWGX1",
        "colab_type": "text"
      },
      "source": [
        "## EASY"
      ]
    },
    {
      "cell_type": "markdown",
      "metadata": {
        "id": "CXt8F7evWHum",
        "colab_type": "text"
      },
      "source": [
        "### P1.PY"
      ]
    },
    {
      "cell_type": "code",
      "metadata": {
        "id": "gYyR5LKAVrWA",
        "colab_type": "code",
        "colab": {}
      },
      "source": [
        "\n",
        "a1 = None\n",
        "\n",
        "# You're writing a program, and you don't know what your starting value for your\n",
        "# 'initial' variable is yet. The program won't run if you leave it blank, \n",
        "#but you don't want to forget you need it! Make a workaround.\n",
        "\n"
      ],
      "execution_count": 0,
      "outputs": []
    },
    {
      "cell_type": "markdown",
      "metadata": {
        "id": "ujd4_d5VVrWD",
        "colab_type": "text"
      },
      "source": [
        "\n",
        "\n",
        "### P2.PY\n",
        "\n",
        "\n"
      ]
    },
    {
      "cell_type": "code",
      "metadata": {
        "id": "9p_mg-MjVrWE",
        "colab_type": "code",
        "outputId": "3d59fcf9-a91b-4193-eba7-39165af2283a",
        "colab": {
          "base_uri": "https://localhost:8080/",
          "height": 51
        }
      },
      "source": [
        "\"\"\"\n",
        "Basic Variables\n",
        "\"\"\"\n",
        "fav_num = 6 \n",
        "print (fav_num)\n",
        "# Create a variable that represents your favorite number, and add a note to remind yourself what this variable represents. Now print it out without re-typing the number.\n",
        "\n",
        "\n",
        "fav_color = \"purple\"\n",
        "print (fav_color)\n",
        "# Create another variable that represents your favorite color, and do the same steps as above.\n",
        "\n"
      ],
      "execution_count": 0,
      "outputs": [
        {
          "output_type": "stream",
          "text": [
            "6\n",
            "purple\n"
          ],
          "name": "stdout"
        }
      ]
    },
    {
      "cell_type": "markdown",
      "metadata": {
        "id": "VbaMGAAYVrWH",
        "colab_type": "text"
      },
      "source": [
        "\n",
        "\n",
        "### P3.PY\n",
        "\n",
        "\n"
      ]
    },
    {
      "cell_type": "code",
      "metadata": {
        "id": "2i4mFvLGVrWI",
        "colab_type": "code",
        "outputId": "2d35196b-2a3d-45ea-82b7-36b4a794e3ba",
        "colab": {
          "base_uri": "https://localhost:8080/",
          "height": 119
        }
      },
      "source": [
        "\"\"\"\n",
        "String Formatting\n",
        "\"\"\"\n",
        "num_bottles = 99\n",
        "lyrics = f\"\"\"\n",
        "{num_bottles} bottles of beer on the wall,\n",
        "take one down,\n",
        "pass it around,\n",
        "{num_bottles - 1} bottles of beer on the wall.\n",
        "\"\"\"\n",
        "\n",
        "print (lyrics)\n",
        "# Create a variable that contains the first 4 lines of lyrics from your favorite \n",
        "# song. Add a comment that includes the song title and artist **each on their own\n",
        "# line**! Now print out this variable.\n",
        "\n"
      ],
      "execution_count": 0,
      "outputs": [
        {
          "output_type": "stream",
          "text": [
            "\n",
            "99 bottles of beer on the wall,\n",
            "take one down,\n",
            "pass it around,\n",
            "98 bottles of beer on the wall.\n",
            "\n"
          ],
          "name": "stdout"
        }
      ]
    },
    {
      "cell_type": "markdown",
      "metadata": {
        "id": "poqjlnEOVrWh",
        "colab_type": "text"
      },
      "source": [
        "## OPERATORS\n",
        "\n",
        "\n",
        "\n"
      ]
    },
    {
      "cell_type": "markdown",
      "metadata": {
        "id": "3j0bS-HcWNLi",
        "colab_type": "text"
      },
      "source": [
        "### P1.PY"
      ]
    },
    {
      "cell_type": "code",
      "metadata": {
        "id": "poP19mJxVrWi",
        "colab_type": "code",
        "outputId": "045675ec-2b41-433f-e737-8b9d6026dbbc",
        "colab": {
          "base_uri": "https://localhost:8080/",
          "height": 119
        }
      },
      "source": [
        "\"\"\"\n",
        "Game Show Score\n",
        "\"\"\"\n",
        "\n",
        "# Imagine the var below represents the latest score of a competitor on a game show. As this person plays, you need to update their score to reflect gains and losses in points. Each math operation below dictates the change in the competitor's score to be made after each of his or her actions.\n",
        "\n",
        "# Complete the below math operations and print the results to show the changes in the competitor's score throughout the game.\n",
        "\n",
        "latest_score = 100\n",
        "print(latest_score)\n",
        "\n",
        "# Add 50\n",
        "latest_score += 50\n",
        "print(latest_score)\n",
        "\n",
        "\n",
        "# Subtract 90\n",
        "latest_score -= 90\n",
        "print(latest_score)\n",
        "\n",
        "\n",
        "# Multiply 10\n",
        "latest_score *= 10\n",
        "print(latest_score)\n",
        "\n",
        "\n",
        "# Divide 150\n",
        "latest_score /= 150\n",
        "print(latest_score)\n",
        "\n",
        "\n",
        "# Modulus 3\n",
        "latest_score %= 3\n",
        "print(latest_score)\n",
        "\n"
      ],
      "execution_count": 0,
      "outputs": [
        {
          "output_type": "stream",
          "text": [
            "100\n",
            "150\n",
            "60\n",
            "600\n",
            "4.0\n",
            "1.0\n"
          ],
          "name": "stdout"
        }
      ]
    },
    {
      "cell_type": "markdown",
      "metadata": {
        "id": "WAYZJHHgVrWk",
        "colab_type": "text"
      },
      "source": [
        "\n",
        "\n",
        "### P2.PY\n",
        "\n",
        "\n"
      ]
    },
    {
      "cell_type": "code",
      "metadata": {
        "id": "P067XIZ8VrWl",
        "colab_type": "code",
        "outputId": "8dc63cd6-ad6c-4b1f-915f-4e3f304fe116",
        "colab": {
          "base_uri": "https://localhost:8080/",
          "height": 34
        }
      },
      "source": [
        "\"\"\"\n",
        "String Operators\n",
        "\"\"\"\n",
        "a = \"I will go to the beach today,\"\n",
        "b = \"and I will go snorkeling.\"\n",
        "print (a+b)\n",
        "\n",
        "# Create two variables, each of which is half of a compound sentence. \n",
        "## Example compound sentence: \"I'll go to the beach today, and I'll go snorkeling.\" "
      ],
      "execution_count": 0,
      "outputs": [
        {
          "output_type": "stream",
          "text": [
            "I will go to the beach today,and I will go snorkeling.\n"
          ],
          "name": "stdout"
        }
      ]
    },
    {
      "cell_type": "markdown",
      "metadata": {
        "id": "TqqaKHjuVrWn",
        "colab_type": "text"
      },
      "source": [
        "\n",
        "\n",
        "### P3.PY\n",
        "\n",
        "\n"
      ]
    },
    {
      "cell_type": "code",
      "metadata": {
        "id": "H7kysyPYVrWo",
        "colab_type": "code",
        "outputId": "76c22ced-b4ce-46ce-e962-0fc91e8faf87",
        "colab": {
          "base_uri": "https://localhost:8080/",
          "height": 232
        }
      },
      "source": [
        "\"\"\"\n",
        "Addition I - Numbers & Strings\n",
        "\"\"\"\n",
        "\n",
        "# Add the below sets of variables together without causing any Type Errors. \n",
        "\n",
        "# A)\n",
        "a = 0\n",
        "b = 2\n",
        "print (a + b)\n",
        "\n",
        "\n",
        "# B)\n",
        "c = '0'\n",
        "d = '2'\n",
        "print (c + d)\n",
        "\n",
        "\n",
        "# C)\n",
        "e = '0'\n",
        "f = 2\n",
        "print (e + f)"
      ],
      "execution_count": 0,
      "outputs": [
        {
          "output_type": "stream",
          "text": [
            "2\n",
            "02\n"
          ],
          "name": "stdout"
        },
        {
          "output_type": "error",
          "ename": "TypeError",
          "evalue": "ignored",
          "traceback": [
            "\u001b[0;31m---------------------------------------------------------------------------\u001b[0m",
            "\u001b[0;31mTypeError\u001b[0m                                 Traceback (most recent call last)",
            "\u001b[0;32m<ipython-input-8-e48fb2bba724>\u001b[0m in \u001b[0;36m<module>\u001b[0;34m()\u001b[0m\n\u001b[1;32m     20\u001b[0m \u001b[0me\u001b[0m \u001b[0;34m=\u001b[0m \u001b[0;34m'0'\u001b[0m\u001b[0;34m\u001b[0m\u001b[0;34m\u001b[0m\u001b[0m\n\u001b[1;32m     21\u001b[0m \u001b[0mf\u001b[0m \u001b[0;34m=\u001b[0m \u001b[0;36m2\u001b[0m\u001b[0;34m\u001b[0m\u001b[0;34m\u001b[0m\u001b[0m\n\u001b[0;32m---> 22\u001b[0;31m \u001b[0mprint\u001b[0m \u001b[0;34m(\u001b[0m\u001b[0me\u001b[0m \u001b[0;34m+\u001b[0m \u001b[0mf\u001b[0m\u001b[0;34m)\u001b[0m\u001b[0;34m\u001b[0m\u001b[0;34m\u001b[0m\u001b[0m\n\u001b[0m",
            "\u001b[0;31mTypeError\u001b[0m: must be str, not int"
          ]
        }
      ]
    },
    {
      "cell_type": "markdown",
      "metadata": {
        "id": "T4rtuQ1CVrWr",
        "colab_type": "text"
      },
      "source": [
        "\n",
        "\n",
        "### P4.PY\n",
        "\n",
        "\n"
      ]
    },
    {
      "cell_type": "code",
      "metadata": {
        "id": "eCkVtKI8VrWs",
        "colab_type": "code",
        "outputId": "a76b2dec-8a7d-447a-ebb4-e03b5305cc24",
        "colab": {
          "base_uri": "https://localhost:8080/",
          "height": 68
        }
      },
      "source": [
        "\"\"\"\n",
        "Addition II - Booleans\n",
        "\"\"\"\n",
        "\n",
        "# Add the below sets of variables together.\n",
        "\n",
        "# A)\n",
        "a = True\n",
        "b = True\n",
        "print (a + b)\n",
        "\n",
        "\n",
        "# B)\n",
        "c = False\n",
        "d = False\n",
        "print (c + d)\n",
        "\n",
        "\n",
        "# C)\n",
        "e = True\n",
        "f = False\n",
        "print (e + f)"
      ],
      "execution_count": 0,
      "outputs": [
        {
          "output_type": "stream",
          "text": [
            "2\n",
            "0\n",
            "1\n"
          ],
          "name": "stdout"
        }
      ]
    },
    {
      "cell_type": "markdown",
      "metadata": {
        "id": "0o8YPHxoVrWL",
        "colab_type": "text"
      },
      "source": [
        "## TYPECASTING\n",
        "\n"
      ]
    },
    {
      "cell_type": "markdown",
      "metadata": {
        "id": "XlNf2YptWKVu",
        "colab_type": "text"
      },
      "source": [
        "### P1.PY"
      ]
    },
    {
      "cell_type": "code",
      "metadata": {
        "id": "LDgWvrWzVrWM",
        "colab_type": "code",
        "outputId": "58e856c7-ccac-403e-996d-95bda0c1177f",
        "colab": {
          "base_uri": "https://localhost:8080/",
          "height": 153
        }
      },
      "source": [
        "\"\"\"\n",
        "Typcasting w. Integers & Floats\n",
        "\"\"\"\n",
        "\n",
        "# Convert these numbers into floats and back. Print out each result as well as its data type.\n",
        "\n",
        "five = 5\n",
        "zero = 0\n",
        "neg_8 = -8\n",
        "neg_22 = -22\n",
        "\n",
        "five = float(five)\n",
        "zero = float (zero)\n",
        "neg_8 = float (neg_8)\n",
        "neg_22 = float (neg_22)\n",
        "\n",
        "print (five, \"is of type\", type(five))\n",
        "print (zero, \"is of type\", type(zero))\n",
        "print (neg_8, \"is of type\", type(neg_8))\n",
        "print (neg_22, \"is of type\", type(neg_22))\n",
        "\n",
        "five = int(five)\n",
        "zero = int(zero)\n",
        "neg_8 = int(neg_8)\n",
        "neg_22 = int(neg_22)\n",
        "\n",
        "print (five, \"is of type\", type(five))\n",
        "print (zero, \"is of type\", type(zero))\n",
        "print (neg_8, \"is of type\", type(neg_8))\n",
        "print (neg_22, \"is of type\", type(neg_22))\n",
        "\n"
      ],
      "execution_count": 0,
      "outputs": [
        {
          "output_type": "stream",
          "text": [
            "5.0 is of type <class 'float'>\n",
            "0.0 is of type <class 'float'>\n",
            "-8.0 is of type <class 'float'>\n",
            "-22.0 is of type <class 'float'>\n",
            "5 is of type <class 'int'>\n",
            "0 is of type <class 'int'>\n",
            "-8 is of type <class 'int'>\n",
            "-22 is of type <class 'int'>\n"
          ],
          "name": "stdout"
        }
      ]
    },
    {
      "cell_type": "markdown",
      "metadata": {
        "id": "HWOwfU00VrWS",
        "colab_type": "text"
      },
      "source": [
        "\n",
        "\n",
        "### P2.PY\n",
        "\n",
        "\n"
      ]
    },
    {
      "cell_type": "code",
      "metadata": {
        "id": "_5-k5J4mVrWT",
        "colab_type": "code",
        "outputId": "3599b3f0-198a-48f5-b9f7-7fc6885b88cc",
        "colab": {
          "base_uri": "https://localhost:8080/",
          "height": 187
        }
      },
      "source": [
        "\"\"\"\n",
        "Typcasting w. Strings\n",
        "\"\"\"\n",
        "\n",
        "# Convert these variables into strings and then back to their original data types. \n",
        "#Print out each result as well as its data type. What do you notice about the last one?\n",
        "\n",
        "five = 5\n",
        "zero = 0\n",
        "neg_8 = -8\n",
        "T = True\n",
        "F = False\n",
        "\n",
        "five = str(five)\n",
        "zero = str(zero)\n",
        "neg_8 = str(neg_8)\n",
        "T = str(T)\n",
        "F = str(F)\n",
        "\n",
        "print (five, \"is of type\", type(five))\n",
        "print (zero, \"is of type\", type(zero))\n",
        "print (neg_8, \"is of type\", type(neg_8))\n",
        "print (T, \"is of type\", type(T))\n",
        "print (F, \"is of type\", type(F))\n",
        "\n",
        "five = int(five)\n",
        "zero = int(zero)\n",
        "neg_8 = int(neg_8)\n",
        "T = bool(T)\n",
        "F = bool(F)\n",
        "\n",
        "\n",
        "print (five, \"is of type\", type(five))\n",
        "print (zero, \"is of type\", type(zero))\n",
        "print (neg_8, \"is of type\", type(neg_8))\n",
        "print (T, \"is of type\", type(T))\n",
        "print (F, \"is of type\", type(F))"
      ],
      "execution_count": 0,
      "outputs": [
        {
          "output_type": "stream",
          "text": [
            "5 is of type <class 'str'>\n",
            "0 is of type <class 'str'>\n",
            "-8 is of type <class 'str'>\n",
            "True is of type <class 'str'>\n",
            "False is of type <class 'str'>\n",
            "5 is of type <class 'int'>\n",
            "0 is of type <class 'int'>\n",
            "-8 is of type <class 'int'>\n",
            "True is of type <class 'bool'>\n",
            "True is of type <class 'bool'>\n"
          ],
          "name": "stdout"
        }
      ]
    },
    {
      "cell_type": "markdown",
      "metadata": {
        "id": "FO_LansxVrWV",
        "colab_type": "text"
      },
      "source": [
        "\n",
        "\n",
        "### P3.PY\n",
        "\n",
        "\n"
      ]
    },
    {
      "cell_type": "code",
      "metadata": {
        "id": "bSVcghffVrWW",
        "colab_type": "code",
        "outputId": "28ee6d8f-038a-4b66-8872-263f2c220ebc",
        "colab": {
          "base_uri": "https://localhost:8080/",
          "height": 170
        }
      },
      "source": [
        "\"\"\"\n",
        "Booleans I - Typecasting w. Numbers\n",
        "\"\"\"\n",
        "\n",
        "# A) Use typecasting to turn these variables into boolean values. Print the result and the datatype of the result. \n",
        "\n",
        "one = 1\n",
        "zero = 0\n",
        "\n",
        "one = bool(one)\n",
        "zero = bool(zero)\n",
        "print (one_bool, \"is type of\", type(one))\n",
        "print (zero_bool, \"is type of\", type(zero))\n",
        "\n",
        "\n",
        "\n",
        "# B) Use typecasting to turn the resultant variables from part A into floats. Print the result and the datatype of the result.\n",
        "one = float(one)\n",
        "zero = float(zero)\n",
        "print (one, \"is type of\", type(one))\n",
        "print (zero, \"is type of\", type(zero))\n",
        "\n",
        "# C) Use typecasting to turn the resultant variables from part B back into booleans. Print the result and the datatype of the result.\n",
        "one = bool(one)\n",
        "zero = bool(zero)\n",
        "print (one, \"is type of\", type(one))\n",
        "print (zero, \"is type of\", type(zero))\n",
        "\n",
        "\n",
        "# C) Use typecasting to turn the resultant variables from part C into integers. Print the result and the datatype of the result.\n",
        "one = int(one)\n",
        "zero = int(zero)\n",
        "print (one, \"is type of\", type(one))\n",
        "print (zero, \"is type of\", type(zero))\n",
        "\n",
        "\n",
        "# E) Use typecasting to turn the variable below into a boolean value. Print the result and the datatype of the result. \n",
        "\n",
        "ten = 10\n",
        "ten = bool(ten)\n",
        "print (ten,\"is type of\", type(ten))\n",
        "\n"
      ],
      "execution_count": 0,
      "outputs": [
        {
          "output_type": "stream",
          "text": [
            "True is type of <class 'bool'>\n",
            "False is type of <class 'bool'>\n",
            "1.0 is type of <class 'float'>\n",
            "0.0 is type of <class 'float'>\n",
            "True is type of <class 'bool'>\n",
            "False is type of <class 'bool'>\n",
            "1 is type of <class 'int'>\n",
            "0 is type of <class 'int'>\n",
            "True is type of <class 'bool'>\n"
          ],
          "name": "stdout"
        }
      ]
    },
    {
      "cell_type": "markdown",
      "metadata": {
        "id": "Q7lEbfSQVrWc",
        "colab_type": "text"
      },
      "source": [
        "\n",
        "\n",
        "### P4.PY\n",
        "\n",
        "\n"
      ]
    },
    {
      "cell_type": "code",
      "metadata": {
        "id": "YFLt2TDXVrWf",
        "colab_type": "code",
        "outputId": "eb9aafa9-02f9-439a-cc92-93c6ea9a0d89",
        "colab": {
          "base_uri": "https://localhost:8080/",
          "height": 153
        }
      },
      "source": [
        "\"\"\"\n",
        "Booleans II - Typecasting w. Strings\n",
        "\"\"\"\n",
        "\n",
        "# A) Use typecasting to turn these variables into boolean values. Print the result and the datatype of the result. \n",
        "\n",
        "one = 1\n",
        "zero = 0\n",
        "T = True\n",
        "F = False\n",
        "\n",
        "one = bool(one)\n",
        "zero = bool(zero)\n",
        "T = bool(T)\n",
        "F = bool(F)\n",
        "print (one,\"is of type\",type(one))\n",
        "print (zero,\"is of type\",type(zero))\n",
        "print (T, \"is of type\",type(T))\n",
        "print (F, \"is of type\",type(F))\n",
        "\n",
        "\n",
        "\n",
        "# B) Use typecasting to turn the latest values for variables 'one' and 'zero' back into integers. Print the result and the datatype of the result.\n",
        "one = int(one)\n",
        "zero = int(zero)\n",
        "print (one, \"is of type\", type(one))\n",
        "print (zero,\"is of type\", type(zero))\n",
        "\n",
        "\n",
        "# C) Use typecasting to turn the latest values for variables 'T' and 'F' back into boolean values. Print the result and the datatype of the result.\n",
        "T = bool(T)\n",
        "F = bool(F)\n",
        "print (T, \"is of type\", type(T))\n",
        "print (F, \"is of type\", type(F))\n",
        "\n",
        "\n",
        "\n"
      ],
      "execution_count": 0,
      "outputs": [
        {
          "output_type": "stream",
          "text": [
            "True is of type <class 'bool'>\n",
            "False is of type <class 'bool'>\n",
            "True is of type <class 'bool'>\n",
            "False is of type <class 'bool'>\n",
            "1 is of type <class 'int'>\n",
            "0 is of type <class 'int'>\n",
            "True is of type <class 'bool'>\n",
            "False is of type <class 'bool'>\n"
          ],
          "name": "stdout"
        }
      ]
    },
    {
      "cell_type": "markdown",
      "metadata": {
        "id": "pRORE6K8VrWy",
        "colab_type": "text"
      },
      "source": [
        "## SHOPPING_LIST\n",
        "\n",
        "\n"
      ]
    },
    {
      "cell_type": "markdown",
      "metadata": {
        "id": "sX291wpjWQea",
        "colab_type": "text"
      },
      "source": [
        "### P1.PY"
      ]
    },
    {
      "cell_type": "code",
      "metadata": {
        "id": "kH5HZBmiVrWy",
        "colab_type": "code",
        "outputId": "e4230a4c-c182-4b40-baf5-b4dffc51263d",
        "colab": {
          "base_uri": "https://localhost:8080/",
          "height": 102
        }
      },
      "source": [
        "\"\"\"\n",
        "Shopping List Calculator I\n",
        "\"\"\"\n",
        "\n",
        "# Create five variables,\n",
        "# set them to strings that represent 5 common shopping list items\n",
        "\n",
        "\n",
        "item_name_1 = 'apple'\n",
        "item_name_2 = 'banana'\n",
        "item_name_3 = 'cherry'\n",
        "item_name_4 = 'pear'\n",
        "item_name_5 = 'orange'\n",
        "\n",
        "# Create five more variables,\n",
        "# set them to floats that represent the prices of each of the items above\n",
        "\n",
        "item_price_1 = 3.5\n",
        "item_price_2 = 1.99\n",
        "item_price_3 = 3.25\n",
        "item_price_4 = 2.99\n",
        "item_price_5 = 2.0\n",
        "\n",
        "# Create five more variables,\n",
        "# set them to ints that represent the quantity of each of the items above\n",
        "item_quant_1 = 10\n",
        "item_quant_2 = 5\n",
        "item_quant_3 = 12\n",
        "item_quant_4 = 8\n",
        "item_quant_5 = 15\n",
        "\n",
        "# Print to the console the name and price of each item defined above as follows:\n",
        "# 1 Coco Puffs = $8.95.\n",
        "# where:\n",
        "# 1 would be item_quant_1\n",
        "# Coco Puffs would be item_name_1\n",
        "# 8.95 would be item_name_2\n",
        "print (item_quant_1, item_name_1,\"=\",item_price_1*item_quant_1)\n",
        "print (item_quant_2, item_name_2,\"=\",item_price_2*item_quant_2)\n",
        "print (item_quant_3, item_name_3,\"=\",item_price_3*item_quant_3)\n",
        "print (item_quant_4, item_name_4,\"=\",item_price_4*item_quant_4)\n",
        "print (item_quant_5, item_name_5,\"=\",item_price_5*item_quant_5)"
      ],
      "execution_count": 0,
      "outputs": [
        {
          "output_type": "stream",
          "text": [
            "10 apple = 35.0\n",
            "5 banana = 9.95\n",
            "12 cherry = 39.0\n",
            "8 pear = 23.92\n",
            "15 orange = 30.0\n"
          ],
          "name": "stdout"
        }
      ]
    },
    {
      "cell_type": "markdown",
      "metadata": {
        "id": "tr50TO3xVrW1",
        "colab_type": "text"
      },
      "source": [
        "\n",
        "\n",
        "### P2.PY\n",
        "\n",
        "\n"
      ]
    },
    {
      "cell_type": "code",
      "metadata": {
        "id": "_6WnvYbpVrW2",
        "colab_type": "code",
        "outputId": "e63338f2-173e-49c3-cf61-3e40420c9407",
        "colab": {
          "base_uri": "https://localhost:8080/",
          "height": 374
        }
      },
      "source": [
        "\"\"\"\n",
        "Shopping List Calculator II\n",
        "\"\"\"\n",
        "\n",
        "# Rewrite p1, but this time use the input() command to solicit user input for name, price, quantity. Here's how it works:\n",
        "\n",
        "item_name_1 = input('Name your first item: ') \n",
        "\t# ^ this will ask user to input value of item_name_1\n",
        "\n",
        "# use input() function and ask user to name items\n",
        "item_name_1 = input('Name your first item: ')\n",
        "item_name_2 = input('Name your second item: ')\n",
        "item_name_3 = input('Name your third item: ')\n",
        "item_name_4 = input('Name your fourth item: ')\n",
        "item_name_5 = input('Name your fifth item: ')\n",
        "\n",
        "\n",
        "# use input() function and ask user to name prices\n",
        "item_price_1 = float(input('Name your first price: '))\n",
        "item_price_2 = float(input('Name your second price: '))\n",
        "item_price_3 = float(input('Name your third price: '))\n",
        "item_price_4 = float(input('Name your fourth price: '))\n",
        "item_price_5 = float(input('Name your fifth price: '))\n",
        "\n",
        "# use input() function and ask user to name quants\n",
        "item_quant_1 = int(input('Name your first quantity: '))\n",
        "item_quant_2 = int(input('Name your second quantity: '))\n",
        "item_quant_3 = int(input('Name your third quantity: '))\n",
        "item_quant_4 = int(input('Name your fourth quantity: '))\n",
        "item_quant_5 = int(input('Name your fifth quantity: '))\n",
        "\n",
        "# Print to the console the name and price of each item defined above as follows:\n",
        "# 1 Coco Puffs = $8.95.\n",
        "# where:\n",
        "# 1 would be item_quant_1\n",
        "# Coco Puffs would be item_name_1\n",
        "# 8.95 would be item_name_2\n",
        "\n",
        "# JUST REMEMBER: now this will be defined by the user!!\n",
        "print (item_quant_1, item_name_1, \"=\",item_quant_1 * item_price_1)\n",
        "print (item_quant_2, item_name_2, \"=\",item_quant_2 * item_price_2)\n",
        "print (item_quant_3, item_name_3, \"=\",item_quant_3 * item_price_3)\n",
        "print (item_quant_4, item_name_4, \"=\",item_quant_4 * item_price_4)\n",
        "print (item_quant_5, item_name_5, \"=\",item_quant_5 * item_price_5)\n",
        "\n"
      ],
      "execution_count": 0,
      "outputs": [
        {
          "output_type": "stream",
          "text": [
            "Name your first item: apple\n",
            "Name your first item: apple\n",
            "Name your second item: banana\n",
            "Name your third item: orange\n",
            "Name your fourth item: pineapple\n",
            "Name your fifth item: water\n",
            "Name your first price: 1.99\n",
            "Name your second price: 2.0\n",
            "Name your third price: 0.99\n",
            "Name your fourth price: 2.5\n",
            "Name your fifth price: 3\n",
            "Name your first quantity: 5\n",
            "Name your second quantity: 2\n",
            "Name your third quantity: 1\n",
            "Name your fourth quantity: 3\n",
            "Name your fifth quantity: 10\n",
            "5 apple = 9.95\n",
            "2 banana = 4.0\n",
            "1 orange = 0.99\n",
            "3 pineapple = 7.5\n",
            "10 water = 30.0\n"
          ],
          "name": "stdout"
        }
      ]
    },
    {
      "cell_type": "markdown",
      "metadata": {
        "id": "vgZcfv-zVrW4",
        "colab_type": "text"
      },
      "source": [
        "\n"
      ]
    }
  ]
}