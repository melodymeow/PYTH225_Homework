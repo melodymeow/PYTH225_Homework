{
  "nbformat": 4,
  "nbformat_minor": 0,
  "metadata": {
    "colab": {
      "name": "006_functions_psets_MEL.ipynb",
      "provenance": [],
      "collapsed_sections": [],
      "include_colab_link": true
    },
    "kernelspec": {
      "name": "python3",
      "display_name": "Python 3"
    }
  },
  "cells": [
    {
      "cell_type": "markdown",
      "metadata": {
        "id": "view-in-github",
        "colab_type": "text"
      },
      "source": [
        "<a href=\"https://colab.research.google.com/github/melodymeow/PYTH225_Homework/blob/master/006_functions_psets_MEL.ipynb\" target=\"_parent\"><img src=\"https://colab.research.google.com/assets/colab-badge.svg\" alt=\"Open In Colab\"/></a>"
      ]
    },
    {
      "cell_type": "markdown",
      "metadata": {
        "id": "43e1PgRyNeyZ",
        "colab_type": "text"
      },
      "source": [
        "<a href=\"https://colab.research.google.com/github/mottaquikarim/PYTH2/blob/master/src/PSETS/nb/classes_psets.ipynb\" target=\"_parent\"><img src=\"https://colab.research.google.com/assets/colab-badge.svg\" alt=\"Open In Colab\"/></a>"
      ]
    },
    {
      "cell_type": "markdown",
      "metadata": {
        "id": "_IvyUuPjNeyb",
        "colab_type": "text"
      },
      "source": [
        "#  FUNCTIONS"
      ]
    },
    {
      "cell_type": "markdown",
      "metadata": {
        "id": "RGgp__RZNvUy",
        "colab_type": "text"
      },
      "source": [
        "## BASIC FUNCTION OPS"
      ]
    },
    {
      "cell_type": "markdown",
      "metadata": {
        "id": "yEdzSlN8NwyE",
        "colab_type": "text"
      },
      "source": [
        "### P1.PY"
      ]
    },
    {
      "cell_type": "code",
      "metadata": {
        "id": "XixCtMjENeye",
        "colab_type": "code",
        "outputId": "d5dad9ce-ba41-423f-eee2-15fc2425d0b5",
        "colab": {
          "base_uri": "https://localhost:8080/",
          "height": 35
        }
      },
      "source": [
        "\"\"\"\n",
        "Function Basics I - No Input\n",
        "\"\"\"\n",
        "\n",
        "# Write a and call a function called \"rand_list\" that generates a list of 5 random numbers between 1 and 500. \n",
        "#Print out that list.\n",
        "import random\n",
        "\n",
        "random_list = []\n",
        "\n",
        "def rand_list():\n",
        "  for i in range (1,6):\n",
        "    num = random.randint(1,500)\n",
        "    random_list.append(num)\n",
        "  return random_list\n",
        " \n",
        "\n",
        "print(rand_list())\n"
      ],
      "execution_count": 0,
      "outputs": [
        {
          "output_type": "stream",
          "text": [
            "[250, 271, 250, 75, 133]\n"
          ],
          "name": "stdout"
        }
      ]
    },
    {
      "cell_type": "markdown",
      "metadata": {
        "id": "JHygF2-tNeyk",
        "colab_type": "text"
      },
      "source": [
        "### P2.PY\n"
      ]
    },
    {
      "cell_type": "code",
      "metadata": {
        "id": "a08oiPvoNeyl",
        "colab_type": "code",
        "outputId": "8ae104d7-5c01-41fc-888b-5a34e3587391",
        "colab": {
          "base_uri": "https://localhost:8080/",
          "height": 35
        }
      },
      "source": [
        "\"\"\"\n",
        "Function Basics II - Arguments\n",
        "\"\"\"\n",
        "\n",
        "# Write a and call function called \"names\" that separately intakes a person's first name \n",
        "#and a person's last name. It should concatenate the names and return the person's full name.\n",
        "\n",
        "def names(first_name,last_name):\n",
        "  full_name = first_name + \" \" + last_name\n",
        "  return full_name\n",
        "\n",
        "name1 = names('Wilson','Smith')\n",
        "print(name1)"
      ],
      "execution_count": 0,
      "outputs": [
        {
          "output_type": "stream",
          "text": [
            "Wilson Smith\n"
          ],
          "name": "stdout"
        }
      ]
    },
    {
      "cell_type": "markdown",
      "metadata": {
        "id": "tFsdo4A6Neyn",
        "colab_type": "text"
      },
      "source": [
        "\n",
        "### P3.PY\n"
      ]
    },
    {
      "cell_type": "code",
      "metadata": {
        "id": "DBA7Joa8Neyp",
        "colab_type": "code",
        "outputId": "9079fd90-ebf1-4fa6-dfb4-e79900259b43",
        "colab": {
          "base_uri": "https://localhost:8080/",
          "height": 35
        }
      },
      "source": [
        "\"\"\"\n",
        "Function Basics III - Default Arguments\n",
        "\"\"\"\n",
        "\n",
        "# Now write a and call function called \"fave_colors\" that separately intakes a person's first name, \n",
        "#a person's last name, and **optionally** their favorite color.\n",
        "\n",
        "# The function should create and return a dict with the full name as a key \n",
        "#and the favorite color as the value. If the person does not enter a favorite color, \n",
        "#you should assume they have no favorite color and assign theirs to None. Try both use cases.\n",
        "\n",
        "def fave_colors(first_name, last_name,fav_color=None):\n",
        "  dict1 = {}\n",
        "  full_name = first_name + ' ' + last_name\n",
        "  if fav_color != None:\n",
        "    dict1[full_name] = fav_color\n",
        "  else:\n",
        "    dict1[full_name] = None\n",
        "  return dict1\n",
        "\n",
        "print(fave_colors('Steve','Smith','blue'))\n"
      ],
      "execution_count": 0,
      "outputs": [
        {
          "output_type": "stream",
          "text": [
            "{'Steve Smith': 'blue'}\n"
          ],
          "name": "stdout"
        }
      ]
    },
    {
      "cell_type": "markdown",
      "metadata": {
        "id": "cWqpS8KLNeyz",
        "colab_type": "text"
      },
      "source": [
        "\n",
        "### P4.PY\n"
      ]
    },
    {
      "cell_type": "code",
      "metadata": {
        "id": "WmATxpzvNey0",
        "colab_type": "code",
        "outputId": "13f5de8d-026c-437d-c8db-dbcd558aeeee",
        "colab": {
          "base_uri": "https://localhost:8080/",
          "height": 69
        }
      },
      "source": [
        "\"\"\"\n",
        "Function Basics IV - Multiple Return Values\n",
        "\"\"\"\n",
        "\n",
        "# Write a and call a function called \"figures\" that takes any two numbers and \n",
        "#**individually** returns the following as integers:\n",
        "# their sum\n",
        "# their product\n",
        "# the quotient for num1 / num2\n",
        "\n",
        "\"\"\"Print each value out individually in this format:\n",
        "(using 12 and 3)\n",
        "sum: 15\n",
        "product: 36\n",
        "quotient: 4\n",
        "\"\"\"\n",
        "\n",
        "def figures(a,b):\n",
        "  total = int(a + b)\n",
        "  product = int(a * b)\n",
        "  quotient = int(a / b)\n",
        "  return f'sum: {total}\\nproduct: {product} \\nquotient:{quotient}'\n",
        "\n",
        "\n",
        "print(figures(12,3))\n"
      ],
      "execution_count": 0,
      "outputs": [
        {
          "output_type": "stream",
          "text": [
            "sum: 15\n",
            "product: 36 \n",
            "quotient:4\n"
          ],
          "name": "stdout"
        }
      ]
    },
    {
      "cell_type": "markdown",
      "metadata": {
        "id": "pqxwEC16Ney2",
        "colab_type": "text"
      },
      "source": [
        "\n",
        "### P5.PY\n"
      ]
    },
    {
      "cell_type": "code",
      "metadata": {
        "id": "i_tVcZ1FNey3",
        "colab_type": "code",
        "outputId": "7fd71048-f85e-47b6-b0be-19f08034fcd6",
        "colab": {
          "base_uri": "https://localhost:8080/",
          "height": 35
        }
      },
      "source": [
        "\"\"\"\n",
        "Function Basics V - Indeterminate Arguments\n",
        "\"\"\"\n",
        "\n",
        "# Write a and call a function called \"high_low\" that takes 3 numbers and returns the highest and lowest ones.\n",
        "\n",
        "# def high_low(a,b,c):\n",
        "#   highest = max(a,b,c)\n",
        "#   lowest = min(a,b,c)\n",
        "#   return highest,lowest\n",
        "\n",
        "# sample = high_low(1,2,3)\n",
        "# print(sample)\n",
        "\n",
        "# Method 2:\n",
        "def high_low(*args):\n",
        "  list1 = sorted([*args])\n",
        "  highest = list1[0]\n",
        "  lowest = list1[-1]\n",
        "  return highest,lowest\n",
        "\n",
        "sample = high_low (14,543,52,23,52,24)\n",
        "print(sample)\n",
        "\n",
        "# def hi_low(*args): >> *args will pass in as a tuple\n",
        "#   return max(args), min(args)\n",
        "\n",
        "# h,l = high_low(23,425,2134,132,1,34)\n",
        "# print(h,l)"
      ],
      "execution_count": 0,
      "outputs": [
        {
          "output_type": "stream",
          "text": [
            "(14, 543)\n"
          ],
          "name": "stdout"
        }
      ]
    },
    {
      "cell_type": "markdown",
      "metadata": {
        "id": "1p9TsLXtNey5",
        "colab_type": "text"
      },
      "source": [
        "\n",
        "## DB_SEARCH\n"
      ]
    },
    {
      "cell_type": "markdown",
      "metadata": {
        "id": "W5DLuftkNyog",
        "colab_type": "text"
      },
      "source": [
        "### P1.PY"
      ]
    },
    {
      "cell_type": "code",
      "metadata": {
        "id": "WvU9x79ZNey6",
        "colab_type": "code",
        "outputId": "88cc673d-14cb-42a9-952b-0cbf59ad0a81",
        "colab": {
          "base_uri": "https://localhost:8080/",
          "height": 35
        }
      },
      "source": [
        "\"\"\"\n",
        "GPA Calculator\n",
        "\"\"\"\n",
        "\n",
        "# Write a function called \"simple_gpa\" to find GPA when student enters a letter grade as a string. \n",
        "#Assign the result to a variable called \"gpa\".\n",
        "\n",
        "\"\"\"\n",
        "Use these conversions:\n",
        "A+ --> 4.0\n",
        "A --> 4.0\n",
        "A- --> 3.7\n",
        "B+ --> 3.3\n",
        "B --> 3.0\n",
        "B- --> 2.7\n",
        "C+ --> 2.3\n",
        "C --> 2.0\n",
        "C- --> 1.7\n",
        "D+ --> 1.3\n",
        "D --> 1.0\n",
        "D- --> 0.7\n",
        "F --> 0.0\n",
        "\"\"\"\n",
        "\n",
        "def simple_gpa(a:str) ->str:\n",
        "  if a == 'A+' or a == 'A':\n",
        "    gpa = 4\n",
        "  elif a == 'A-':\n",
        "    gpa = 3.7\n",
        "  elif a == 'B+':\n",
        "    gpa = 3.3\n",
        "  elif a == 'B':\n",
        "    gpa = 3\n",
        "  elif a == 'B-':\n",
        "    gpa = 2.7\n",
        "  elif a == 'C+':\n",
        "    gpa = 2.3\n",
        "  elif a == 'C':\n",
        "    gpa = 2\n",
        "  elif a == 'C-':\n",
        "    gpa = 1.7\n",
        "  elif a == 'D+':\n",
        "    gpa = 1.3\n",
        "  elif a == 'D':\n",
        "    gpa = 1\n",
        "  elif a == 'D-':\n",
        "    gpa = 0.7\n",
        "  else: \n",
        "    gpa = 0\n",
        "  return gpa\n",
        "\n",
        "print(simple_gpa('B+'))\n",
        "  \n",
        "\n"
      ],
      "execution_count": 0,
      "outputs": [
        {
          "output_type": "stream",
          "text": [
            "3.3\n"
          ],
          "name": "stdout"
        }
      ]
    },
    {
      "cell_type": "markdown",
      "metadata": {
        "id": "XJfdr65oNey8",
        "colab_type": "text"
      },
      "source": [
        "\n",
        "### P2.PY\n",
        "\n"
      ]
    },
    {
      "cell_type": "code",
      "metadata": {
        "id": "STG3hDMhNey9",
        "colab_type": "code",
        "outputId": "5ac8f1f9-fb18-4186-f1c8-84e923fa88c6",
        "colab": {
          "base_uri": "https://localhost:8080/",
          "height": 35
        }
      },
      "source": [
        "\"\"\"\n",
        "RGB to HEX\n",
        "\"\"\"\n",
        "\n",
        "# Write a and call a function called \"rgb_hex\" that takes a parameter called \"color.\" The function should be able to intake a color in rgb format and return it in hex format as well as vice versa. A sample of color conversions are below. Write in logic so the function can interpret rgb and hex colors entered in different formats such as \"rgb_hex((255,255,255))\" or \"rgb_hex('ffffff')\". Also make sure to account for someone inputting a color not in the database.\n",
        "\n",
        "color_conversions = {\n",
        "'#4286f4': 'rgb(66, 134, 244)',\n",
        "'#5905c6': 'rgb(89, 5, 198)',\n",
        "'#fce702': 'rgb(252, 231, 2)',\n",
        "'#ffffff': 'rgb(255, 255, 255)',\n",
        "'#000000': 'rgb(0, 0, 0)',\n",
        "'#0ac913': 'rgb(10, 201, 19)',\n",
        "'#65c672': 'rgb(101, 198, 114)',\n",
        "'#f8d6ff': 'rgb(248, 214, 255)',\n",
        "'#b70782': 'rgb(183, 7, 130)',\n",
        "'#001184': 'rgb(0, 17, 132)',\n",
        "'#495eed': 'rgb(73, 94, 237)',\n",
        "'#b7ffb8': 'rgb(183, 255, 184)',\n",
        "'#ffbf00': 'rgb(255, 191, 0)',\n",
        "'#7a020e': 'rgb(122, 2, 14)',\n",
        "'#ff5e6e': 'rgb(255, 94, 110)',\n",
        "'#22003d': 'rgb(34, 0, 61)'\n",
        "}\n",
        "\n",
        "# user_input = input(\"please input a color: \")\n",
        "# output1 = None\n",
        "\n",
        "# def hex_rgb(color:str):\n",
        "#   lenth = len(color)\n",
        "#   if lenth == 7:\n",
        "#     hex = color_conversions.get(color,'Not Found')\n",
        "#   else:\n",
        "#     hex = color_conversions.get('#' + color,'Not Found')\n",
        "#   return hex\n",
        "\n",
        "# output1 = hex_rgb(user_input)\n",
        "# print(output1)\n",
        "\n",
        "\n",
        "def rgb_hex(hex_color:str) -> str:\n",
        "  rgb_color = color_conversions[hex_color]\n",
        "  return rgb_color\n",
        "\n",
        "output = rgb_hex(\"#7a020e\")\n",
        "print(output)\n",
        "\n",
        "\n",
        "\n",
        "\n"
      ],
      "execution_count": 0,
      "outputs": [
        {
          "output_type": "stream",
          "text": [
            "rgb(122, 2, 14)\n"
          ],
          "name": "stdout"
        }
      ]
    },
    {
      "cell_type": "markdown",
      "metadata": {
        "id": "AQVD0N7BNezC",
        "colab_type": "text"
      },
      "source": [
        "\n",
        "\n",
        "## MATH\n",
        "\n",
        "\n"
      ]
    },
    {
      "cell_type": "markdown",
      "metadata": {
        "id": "bmEK7PmRN1Fu",
        "colab_type": "text"
      },
      "source": [
        "### P1.PY"
      ]
    },
    {
      "cell_type": "code",
      "metadata": {
        "id": "oMKX0HrfNezD",
        "colab_type": "code",
        "outputId": "59a4d2f4-2a01-491c-db6c-eedee80f4a0e",
        "colab": {
          "base_uri": "https://localhost:8080/",
          "height": 35
        }
      },
      "source": [
        "\"\"\"\n",
        "Simple Interest Calculator\n",
        "\"\"\"\n",
        "\n",
        "# Write a function called \"simple_interest\" that will allow a user to find out \n",
        "#how much they will have in savings based on their current funds and an interest rate. \n",
        "#(Instead of collecting user input, you can directly pass values of your choosing for the arguments.)\n",
        "\n",
        "# The formula for simple interest is...\n",
        "# A = P(1 + rt), where...\n",
        "# P = principal amount of money\n",
        "# r = interest rate\n",
        "# t = number of time periods the principal will earn interest\n",
        "\n",
        "def simple_interest(P,r,t):\n",
        "  interest = P * (1 + r * t)\n",
        "  return interest\n",
        "\n",
        "print(simple_interest(100,0.05,10))\n",
        "\n"
      ],
      "execution_count": 0,
      "outputs": [
        {
          "output_type": "stream",
          "text": [
            "150.0\n"
          ],
          "name": "stdout"
        }
      ]
    },
    {
      "cell_type": "markdown",
      "metadata": {
        "id": "7ScSNwjINezF",
        "colab_type": "text"
      },
      "source": [
        "\n",
        "\n",
        "### P2.PY\n",
        "\n",
        "\n"
      ]
    },
    {
      "cell_type": "code",
      "metadata": {
        "id": "YwFx8wHsNezG",
        "colab_type": "code",
        "outputId": "201b256e-41fe-4046-a14c-c340458af760",
        "colab": {
          "base_uri": "https://localhost:8080/",
          "height": 131
        }
      },
      "source": [
        "\"\"\"\n",
        "Permutations & Combinations\n",
        "\"\"\"\n",
        "\n",
        "# Create two functions:\n",
        "\t# One called \"perms\", which outputs the **number** of possible **permutations** of rolling two 6-sided dice and \n",
        "\t#assign it to a variable called \"permutations\".\n",
        "\t# One called \"combs\", which outputs the **number** of possible **combinations** of rolling two 6-sided dice and \n",
        "\t#assigns it to a variable called \"combinations\".\n",
        "\t# Hint: The formulas for these are below, where n is the number of possible outcomes for one trial \n",
        "\t#and r is the number of outcomes you will pick at a time. \n",
        "\t#The contextual difference is that order matters for permutations, \n",
        "\t#meaning the same two numbers in a different order count as two unique permutations.\n",
        "\t# For combinations, the order doesn't matter.\n",
        "\n",
        "# permutation formula = n! / (n-r)!\n",
        "# combination formula = n! / (nâr)!r!\n",
        "def factorial(n):\n",
        "\tnum = 1\n",
        "\tfor i in range (1,n+1):\n",
        "\t\tnum = num * i\n",
        "\treturn num\n",
        "print(factorial(6))\n",
        "\n",
        "def perms(a,b):\n",
        "\tpermutations = factorial(a) / factorial(a-b)\n",
        " return permutations\n",
        "print(perms(6,2))\n",
        "\n"
      ],
      "execution_count": 0,
      "outputs": [
        {
          "output_type": "error",
          "ename": "IndentationError",
          "evalue": "ignored",
          "traceback": [
            "\u001b[0;36m  File \u001b[0;32m\"<ipython-input-36-e498213b56f5>\"\u001b[0;36m, line \u001b[0;32m27\u001b[0m\n\u001b[0;31m    return permutations\u001b[0m\n\u001b[0m                       ^\u001b[0m\n\u001b[0;31mIndentationError\u001b[0m\u001b[0;31m:\u001b[0m unindent does not match any outer indentation level\n"
          ]
        }
      ]
    },
    {
      "cell_type": "markdown",
      "metadata": {
        "id": "7bTNjBy_NezI",
        "colab_type": "text"
      },
      "source": [
        "\n",
        "\n",
        "### P3.PY\n",
        "\n",
        "\n"
      ]
    },
    {
      "cell_type": "code",
      "metadata": {
        "id": "NC2JU5p1NezI",
        "colab_type": "code",
        "colab": {}
      },
      "source": [
        "\"\"\"\n",
        "Multiples\n",
        "\"\"\"\n",
        "\n",
        "# Write a function called \"sum_multiples\" that take two numbers and \n",
        "#returns the sum of their multiples between 0 and some limit. These three items should be generalized as parameters.\n",
        "\n",
        "def sum_multiples(a,b,c):\n",
        "  for \n"
      ],
      "execution_count": 0,
      "outputs": []
    },
    {
      "cell_type": "markdown",
      "metadata": {
        "id": "ARbsmw_mNezL",
        "colab_type": "text"
      },
      "source": [
        "## DATA_MANIPULATION\n",
        "\n",
        "\n"
      ]
    },
    {
      "cell_type": "markdown",
      "metadata": {
        "id": "wTd0ZSSeN4Y8",
        "colab_type": "text"
      },
      "source": [
        "### P1.PY"
      ]
    },
    {
      "cell_type": "code",
      "metadata": {
        "id": "iUq-vFf2NezM",
        "colab_type": "code",
        "outputId": "d0c74736-aaef-4d50-cb6b-8e1cb1d7b8d0",
        "colab": {
          "base_uri": "https://localhost:8080/",
          "height": 55
        }
      },
      "source": [
        "\"\"\"\n",
        "File Organization\n",
        "\"\"\"\n",
        "\n",
        "# The dict \"files\" below contains file names and the name of the person who owns each file. \n",
        "#Write and call a function to reorganize \"files\" such that it contains each person's name and the files he/she owns. \n",
        "#Assign the resultant dict to a new dict called \"grouped_by_owner\". \n",
        "#Print out the key value pairs in this format - key: value.\n",
        "\n",
        "# Function name should be: group_by_owners\n",
        "# Dict of results should be named: files_by_owner\n",
        "\n",
        "files = {\n",
        "  'Input1.txt': 'Beau',\n",
        "  'Code1.py': 'Mischa',\n",
        "  'Output1.txt': 'Beau',\n",
        "  'Input2.txt': 'Beau',\n",
        "  'Code2.py': 'Mischa',\n",
        "  'Output2.txt': 'Beau',\n",
        "  'Input3.txt': 'Percy',\n",
        "  'Code3.py': 'Alejandra',\n",
        "  'Output3.txt': 'Percy'\n",
        "}\n",
        "\n",
        "def group_by_owners()->dict:\n",
        "  groups ={}\n",
        "  for file_name, owner in files.items():\n",
        "    if owner not in groups.keys():\n",
        "      groups[owner]= []\n",
        "    groups[owner].append(file_name)\n",
        "\n",
        "  return groups\n",
        "\n",
        "print(group_by_owners())\n"
      ],
      "execution_count": 0,
      "outputs": [
        {
          "output_type": "stream",
          "text": [
            "{'Beau': ['Input1.txt', 'Output1.txt', 'Input2.txt', 'Output2.txt'], 'Mischa': ['Code1.py', 'Code2.py'], 'Percy': ['Input3.txt', 'Output3.txt'], 'Alejandra': ['Code3.py']}\n"
          ],
          "name": "stdout"
        }
      ]
    },
    {
      "cell_type": "markdown",
      "metadata": {
        "id": "-7KFDG5lNezO",
        "colab_type": "text"
      },
      "source": [
        "\n",
        "\n",
        "### P2.PY\n",
        "\n",
        "\n"
      ]
    },
    {
      "cell_type": "code",
      "metadata": {
        "id": "S5e9s-njNezP",
        "colab_type": "code",
        "colab": {}
      },
      "source": [
        "\"\"\"\n",
        "Clean Pairs\n",
        "\"\"\"\n",
        "\n",
        "# Below is a list of common food pairings. Write a function called \"cleaner\" that \n",
        "#cleans the data such that each list item is a tuple (e.g. ('Milk', 'Cookies')). \n",
        "#Assign the results to a variable called \"clean_pairs\".\n",
        "\n",
        "pairs = [('Milk', 'Cookies'), ('Peanut Butter - Jelly'), ('Spaghetti & Meatballs'), ('Eggs', 'Bacon'), ('Pancakes & Syrup'), ('Chicken - Waffles'), ('Peas', 'Carrots')]\n",
        "\n",
        "\n"
      ],
      "execution_count": 0,
      "outputs": []
    },
    {
      "cell_type": "markdown",
      "metadata": {
        "id": "E39dQ-pONezT",
        "colab_type": "text"
      },
      "source": [
        "\n",
        "\n",
        "### P3.PY\n",
        "\n",
        "\n"
      ]
    },
    {
      "cell_type": "code",
      "metadata": {
        "id": "b6qFJuFfNezT",
        "colab_type": "code",
        "colab": {}
      },
      "source": [
        "\"\"\"\n",
        "Password Requirements\n",
        "\"\"\"\n",
        "\n",
        "# Write a Python program called \"pw_validator\" to validate a password based on the security requirements outlined below.\n",
        "\n",
        "# VALIDATION REQUIREMENTS:\n",
        "## At least 1 lowercase letter [a-z]\n",
        "## At least 1 uppercase letter [A-Z].\n",
        "## At least 1 number [0-9].\n",
        "## At least 1 special character [~!@#$%&*].\n",
        "## Min length 6 characters.\n",
        "## Max length 16 characters.\n",
        "\n"
      ],
      "execution_count": 0,
      "outputs": []
    },
    {
      "cell_type": "markdown",
      "metadata": {
        "id": "X8kPjts_NezV",
        "colab_type": "text"
      },
      "source": [
        "\n",
        "\n",
        "### P4.PY\n",
        "\n",
        "\n"
      ]
    },
    {
      "cell_type": "code",
      "metadata": {
        "id": "AucIC9Z8NezW",
        "colab_type": "code",
        "colab": {}
      },
      "source": [
        "\"\"\"\n",
        "Rainbows & Wobniars\n",
        "\"\"\"\n",
        "\n",
        "# Write a function called \"wobniar\", which should contain the local variable \"rainbow\" below. The function should collect every other color of the rainbow starting at index 0 and add each one to a new list. When you add each color, it should be spelled backwards. For example, the word 'sing' would be added to the new list as 'gnis'. Return and print the list.\n",
        "\n"
      ],
      "execution_count": 0,
      "outputs": []
    },
    {
      "cell_type": "markdown",
      "metadata": {
        "id": "4gyJyWF1Nezc",
        "colab_type": "text"
      },
      "source": [
        "\n",
        "\n",
        "### P5.PY\n",
        "\n",
        "\n"
      ]
    },
    {
      "cell_type": "code",
      "metadata": {
        "id": "aW8b7Bk_Neze",
        "colab_type": "code",
        "colab": {}
      },
      "source": [
        "\"\"\"\n",
        "Speeding Tickets\n",
        "\"\"\"\n",
        "\n",
        "# Imagine you're a cop waiting on the side of the road to pick up speeders. Write a function called \"speeders\" to check the speed of drivers and record their license plate numbers.\n",
        "## If speed is less than or equal 70 (mph), it should print \"Good\". \n",
        "## If the speed is greater than 70, find the license plate number of that driver in your \"driver_points\" dict (see below) and add a point to their license for every 5 full mph above the speed limit.\n",
        "## If at any point that driver has 12 or more points on his/her license, print \"License Suspended\".\n",
        "## Call the function on each driver in the \"passing_cars\" dict below to see difference use cases work.\n",
        "\n",
        "# p.s. Feel free to move these around in your code as needed.\n",
        "passing_cars = { # license plate nums & speed\n",
        "  '4GRONPH': 68,\n",
        "  'OJGL6WD': 82,\n",
        "  'Q5517FA': 70,\n",
        "  'S0PNWEJ': 95,\n",
        "  'RM23RXC': 64,\n",
        "  'KH5TH8D': 100,\n",
        "  'IHEHJ4P': 67,\n",
        "  'SVK90LT': 73,\n",
        "  'LJSV4N1': 88,\n",
        "  'KDRLGXM': 91\n",
        "}\n",
        "\n",
        "driver_points = { # license plate nums & points\n",
        "  '4GRONPH': 8,\n",
        "  'OJGL6WD': 12,\n",
        "  'Q5517FA': 1,\n",
        "  'S0PNWEJ': 2,\n",
        "  'RM23RXC': 6,\n",
        "  'KH5TH8D': 7,\n",
        "  'IHEHJ4P': 10,\n",
        "  'SVK90LT': 5,\n",
        "  'LJSV4N1': 3,\n",
        "  'KDRLGXM': 9\n",
        "  }\n",
        "\n",
        "\n"
      ],
      "execution_count": 0,
      "outputs": []
    }
  ]
}